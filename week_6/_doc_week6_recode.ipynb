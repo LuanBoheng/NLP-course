{
 "cells": [
  {
   "cell_type": "markdown",
   "metadata": {},
   "source": [
    "# 1. load corpus"
   ]
  },
  {
   "cell_type": "code",
   "execution_count": 1,
   "metadata": {},
   "outputs": [],
   "source": [
    "import pickle\n",
    "def save_obj(obj, file_name):\n",
    "    pickle.dump(obj, open(file_name, 'wb'))\n",
    "    \n",
    "def load_obj(file_name):\n",
    "    obj = pickle.load(open(file_name, 'rb'))\n",
    "    return obj"
   ]
  },
  {
   "cell_type": "code",
   "execution_count": 2,
   "metadata": {},
   "outputs": [
    {
     "data": {
      "text/html": [
       "<div>\n",
       "<style scoped>\n",
       "    .dataframe tbody tr th:only-of-type {\n",
       "        vertical-align: middle;\n",
       "    }\n",
       "\n",
       "    .dataframe tbody tr th {\n",
       "        vertical-align: top;\n",
       "    }\n",
       "\n",
       "    .dataframe thead th {\n",
       "        text-align: right;\n",
       "    }\n",
       "</style>\n",
       "<table border=\"1\" class=\"dataframe\">\n",
       "  <thead>\n",
       "    <tr style=\"text-align: right;\">\n",
       "      <th></th>\n",
       "      <th>id</th>\n",
       "      <th>author</th>\n",
       "      <th>source</th>\n",
       "      <th>content</th>\n",
       "      <th>feature</th>\n",
       "      <th>title</th>\n",
       "      <th>url</th>\n",
       "    </tr>\n",
       "  </thead>\n",
       "  <tbody>\n",
       "    <tr>\n",
       "      <th>0</th>\n",
       "      <td>89617</td>\n",
       "      <td></td>\n",
       "      <td>快科技@http://www.kkj.cn/</td>\n",
       "      <td>此外，自本周（6月12日）起，除小米手机6等15款机型外，其余机型已暂停更新发布（含开发版/...</td>\n",
       "      <td>{\"type\":\"科技\",\"site\":\"cnbeta\",\"commentNum\":\"37\"...</td>\n",
       "      <td>小米MIUI 9首批机型曝光：共计15款</td>\n",
       "      <td>http://www.cnbeta.com/articles/tech/623597.htm</td>\n",
       "    </tr>\n",
       "    <tr>\n",
       "      <th>1</th>\n",
       "      <td>89616</td>\n",
       "      <td></td>\n",
       "      <td>快科技@http://www.kkj.cn/</td>\n",
       "      <td>骁龙835作为唯一通过Windows 10桌面平台认证的ARM处理器，高通强调，不会因为只考...</td>\n",
       "      <td>{\"type\":\"科技\",\"site\":\"cnbeta\",\"commentNum\":\"15\"...</td>\n",
       "      <td>骁龙835在Windows 10上的性能表现有望改善</td>\n",
       "      <td>http://www.cnbeta.com/articles/tech/623599.htm</td>\n",
       "    </tr>\n",
       "    <tr>\n",
       "      <th>2</th>\n",
       "      <td>89615</td>\n",
       "      <td></td>\n",
       "      <td>快科技@http://www.kkj.cn/</td>\n",
       "      <td>此前的一加3T搭载的是3400mAh电池，DashCharge快充规格为5V/4A。\\r\\n...</td>\n",
       "      <td>{\"type\":\"科技\",\"site\":\"cnbeta\",\"commentNum\":\"18\"...</td>\n",
       "      <td>一加手机5细节曝光：3300mAh、充半小时用1天</td>\n",
       "      <td>http://www.cnbeta.com/articles/tech/623601.htm</td>\n",
       "    </tr>\n",
       "    <tr>\n",
       "      <th>3</th>\n",
       "      <td>89614</td>\n",
       "      <td></td>\n",
       "      <td>新华社</td>\n",
       "      <td>这是6月18日在葡萄牙中部大佩德罗冈地区拍摄的被森林大火烧毁的汽车。新华社记者张立云摄\\r\\n</td>\n",
       "      <td>{\"type\":\"国际新闻\",\"site\":\"环球\",\"commentNum\":\"0\",\"j...</td>\n",
       "      <td>葡森林火灾造成至少62人死亡 政府宣布进入紧急状态（组图）</td>\n",
       "      <td>http://world.huanqiu.com/hot/2017-06/10866126....</td>\n",
       "    </tr>\n",
       "    <tr>\n",
       "      <th>4</th>\n",
       "      <td>89613</td>\n",
       "      <td>胡淑丽_MN7479</td>\n",
       "      <td>深圳大件事</td>\n",
       "      <td>（原标题：44岁女子跑深圳约会网友被拒，暴雨中裸身奔走……）\\r\\n@深圳交警微博称：昨日清...</td>\n",
       "      <td>{\"type\":\"新闻\",\"site\":\"网易热门\",\"commentNum\":\"978\",...</td>\n",
       "      <td>44岁女子约网友被拒暴雨中裸奔 交警为其披衣相随</td>\n",
       "      <td>http://news.163.com/17/0618/00/CN617P3Q0001875...</td>\n",
       "    </tr>\n",
       "  </tbody>\n",
       "</table>\n",
       "</div>"
      ],
      "text/plain": [
       "      id      author                  source  \\\n",
       "0  89617              快科技@http://www.kkj.cn/   \n",
       "1  89616              快科技@http://www.kkj.cn/   \n",
       "2  89615              快科技@http://www.kkj.cn/   \n",
       "3  89614                                 新华社   \n",
       "4  89613  胡淑丽_MN7479                   深圳大件事   \n",
       "\n",
       "                                             content  \\\n",
       "0  此外，自本周（6月12日）起，除小米手机6等15款机型外，其余机型已暂停更新发布（含开发版/...   \n",
       "1  骁龙835作为唯一通过Windows 10桌面平台认证的ARM处理器，高通强调，不会因为只考...   \n",
       "2  此前的一加3T搭载的是3400mAh电池，DashCharge快充规格为5V/4A。\\r\\n...   \n",
       "3    这是6月18日在葡萄牙中部大佩德罗冈地区拍摄的被森林大火烧毁的汽车。新华社记者张立云摄\\r\\n   \n",
       "4  （原标题：44岁女子跑深圳约会网友被拒，暴雨中裸身奔走……）\\r\\n@深圳交警微博称：昨日清...   \n",
       "\n",
       "                                             feature  \\\n",
       "0  {\"type\":\"科技\",\"site\":\"cnbeta\",\"commentNum\":\"37\"...   \n",
       "1  {\"type\":\"科技\",\"site\":\"cnbeta\",\"commentNum\":\"15\"...   \n",
       "2  {\"type\":\"科技\",\"site\":\"cnbeta\",\"commentNum\":\"18\"...   \n",
       "3  {\"type\":\"国际新闻\",\"site\":\"环球\",\"commentNum\":\"0\",\"j...   \n",
       "4  {\"type\":\"新闻\",\"site\":\"网易热门\",\"commentNum\":\"978\",...   \n",
       "\n",
       "                           title  \\\n",
       "0           小米MIUI 9首批机型曝光：共计15款   \n",
       "1     骁龙835在Windows 10上的性能表现有望改善   \n",
       "2      一加手机5细节曝光：3300mAh、充半小时用1天   \n",
       "3  葡森林火灾造成至少62人死亡 政府宣布进入紧急状态（组图）   \n",
       "4       44岁女子约网友被拒暴雨中裸奔 交警为其披衣相随   \n",
       "\n",
       "                                                 url  \n",
       "0     http://www.cnbeta.com/articles/tech/623597.htm  \n",
       "1     http://www.cnbeta.com/articles/tech/623599.htm  \n",
       "2     http://www.cnbeta.com/articles/tech/623601.htm  \n",
       "3  http://world.huanqiu.com/hot/2017-06/10866126....  \n",
       "4  http://news.163.com/17/0618/00/CN617P3Q0001875...  "
      ]
     },
     "execution_count": 2,
     "metadata": {},
     "output_type": "execute_result"
    }
   ],
   "source": [
    "import pandas as pd\n",
    "\n",
    "data = pd.read_csv('../datasource/sqlResult_1558435.csv', encoding='gb18030')\n",
    "data = data.fillna(' ')\n",
    "data.head()"
   ]
  },
  {
   "cell_type": "code",
   "execution_count": 3,
   "metadata": {},
   "outputs": [
    {
     "name": "stdout",
     "output_type": "stream",
     "text": [
      "mkdir: cannot create directory ‘data’: File exists\n"
     ]
    },
    {
     "name": "stderr",
     "output_type": "stream",
     "text": [
      "100%|██████████| 89611/89611 [02:04<00:00, 717.57it/s]\n"
     ]
    },
    {
     "name": "stdout",
     "output_type": "stream",
     "text": [
      "demo of first corpus: [['此外', '，', '自', '本周', '（', '6', '月', '12', '日', '）', '起', '，', '除', '小米', '手机', '6', '等', '15', '款', '机型', '外', '，', '其余', '机型', '已', '暂停', '更新', '发布', '（', '含', '开发', '版', '/', '体验版', '内测', '，', '稳定版', '暂不受', '影响', '）', '，', '以', '确保', '工程师', '可以', '集中', '全部', '精力', '进行', '系统优化', '工作', '。'], ['有人', '猜测', '这', '也', '是', '将', '精力', '主要', '用到', 'MIUI', ' ', '9', '的', '研发', '之中', '。'], ['MIUI', ' ', '8', '去年', '5', '月', '发布', '，', '距今已有', '一年', '有余', '，', '也', '是', '时候', '更新换代', '了', '。'], ['当然', '，', '关于', 'MIUI', ' ', '9', '的', '确切', '信息', '，', '我们', '还是', '等待', '官方消息', '。'], ['。']]\n"
     ]
    }
   ],
   "source": [
    "import jieba\n",
    "import re\n",
    "from tqdm import tqdm\n",
    "from collections import Counter\n",
    "import logging\n",
    "\n",
    "jieba.setLogLevel(logging.WARNING)\n",
    "\n",
    "def tokenize_string(string):\n",
    "    string = ' '.join(re.findall('.+',string))\n",
    "    sents = [list(jieba.cut(sent.strip()))+['。'] for sent in string.split('。') if sent != ' ']\n",
    "    return sents\n",
    "\n",
    "def get_corpus():\n",
    "    #return [list of docs: list of sents: list of words]\n",
    "    global data\n",
    "    return [tokenize_string(doc) for doc in tqdm(data['content'])]\n",
    "\n",
    "!mkdir data\n",
    "save_obj(get_corpus(), 'data/processed_corpus')\n",
    "print('demo of first corpus:', load_obj('data/processed_corpus')[0])"
   ]
  },
  {
   "cell_type": "markdown",
   "metadata": {},
   "source": [
    "# 2. TFIDF"
   ]
  },
  {
   "cell_type": "markdown",
   "metadata": {},
   "source": [
    "## 2.1. term frequency"
   ]
  },
  {
   "cell_type": "code",
   "execution_count": 4,
   "metadata": {},
   "outputs": [
    {
     "name": "stdout",
     "output_type": "stream",
     "text": [
      "demo term freq: Counter({'，': 9, '。': 5, 'MIUI': 3, ' ': 3, '（': 2, '6': 2, '月': 2, '）': 2, '机型': 2, '发布': 2, '精力': 2, '也': 2, '是': 2, '9': 2, '的': 2, '此外': 1, '自': 1, '本周': 1, '12': 1, '日': 1, '起': 1, '除': 1, '小米': 1, '手机': 1, '等': 1, '15': 1, '款': 1, '外': 1, '其余': 1, '已': 1, '暂停': 1, '更新': 1, '含': 1, '开发': 1, '版': 1, '/': 1, '体验版': 1, '内测': 1, '稳定版': 1, '暂不受': 1, '影响': 1, '以': 1, '确保': 1, '工程师': 1, '可以': 1, '集中': 1, '全部': 1, '进行': 1, '系统优化': 1, '工作': 1, '有人': 1, '猜测': 1, '这': 1, '将': 1, '主要': 1, '用到': 1, '研发': 1, '之中': 1, '8': 1, '去年': 1, '5': 1, '距今已有': 1, '一年': 1, '有余': 1, '时候': 1, '更新换代': 1, '了': 1, '当然': 1, '关于': 1, '确切': 1, '信息': 1, '我们': 1, '还是': 1, '等待': 1, '官方消息': 1})\n"
     ]
    }
   ],
   "source": [
    "from collections import Counter\n",
    "from tqdm import tqdm\n",
    "\n",
    "term_freqs = [Counter([w for sent in doc for w in sent]) for doc in load_obj('data/processed_corpus')]\n",
    "print('demo term freq:', term_freqs[0])"
   ]
  },
  {
   "cell_type": "markdown",
   "metadata": {},
   "source": [
    "## 2.2. document frequency"
   ]
  },
  {
   "cell_type": "code",
   "execution_count": 5,
   "metadata": {},
   "outputs": [
    {
     "data": {
      "text/plain": [
       "257941"
      ]
     },
     "execution_count": 5,
     "metadata": {},
     "output_type": "execute_result"
    }
   ],
   "source": [
    "vocab_freq = Counter()\n",
    "doc_freq = Counter()\n",
    "for c in term_freqs:\n",
    "    for w in c:\n",
    "        vocab_freq[w] += c[w]\n",
    "        doc_freq[w] += 1\n",
    "\n",
    "len(vocab_freq)"
   ]
  },
  {
   "cell_type": "code",
   "execution_count": 6,
   "metadata": {},
   "outputs": [
    {
     "name": "stdout",
     "output_type": "stream",
     "text": [
      "doc freq demo: 华为 179\n",
      "doc freq demo: 小米 98\n",
      "doc freq demo: 三星 124\n",
      "doc freq demo: 苹果 381\n",
      "doc freq demo: 的 70302\n"
     ]
    }
   ],
   "source": [
    "def test_doc_freq(lst:list):\n",
    "    for w in lst:\n",
    "        print('doc freq demo:', w, doc_freq[w])\n",
    "        \n",
    "test_doc_freq(['华为', '小米', '三星', '苹果', '的'])"
   ]
  },
  {
   "cell_type": "markdown",
   "metadata": {},
   "source": [
    "## 2.3. TFIDF and key words"
   ]
  },
  {
   "cell_type": "code",
   "execution_count": 7,
   "metadata": {},
   "outputs": [
    {
     "data": {
      "text/plain": [
       "[('MIUI', 1.2618595071429148),\n",
       " ('内测', 0.3562071871080222),\n",
       " ('官方消息', 0.2890648263178878),\n",
       " ('机型', 0.2390824014385461),\n",
       " ('距今已有', 0.2242438242175754),\n",
       " ('有余', 0.20184908658209985),\n",
       " ('精力', 0.20170098422278315),\n",
       " ('更新换代', 0.19656163223282258),\n",
       " ('用到', 0.18790182470910757),\n",
       " ('确切', 0.16544255391905832)]"
      ]
     },
     "execution_count": 7,
     "metadata": {},
     "output_type": "execute_result"
    }
   ],
   "source": [
    "import math, re\n",
    "def is_target(w):\n",
    "    return re.findall('[\\d\\w]+', w) and vocab_freq[w]>3\n",
    "\n",
    "def tfidf_key_words(doc_vec, num_key_words=50):\n",
    "    global vocab_freq, doc_freq\n",
    "    result = [(w, math.log(doc_vec[w]+1)/math.log(doc_freq[w]+1)) for w in doc_vec if is_target(w)] #apply log on both tf and df\n",
    "    return sorted(result, key = lambda x:x[1], reverse=True)[:num_key_words]\n",
    "\n",
    "tfidf_key_words(term_freqs[0],10)"
   ]
  },
  {
   "cell_type": "markdown",
   "metadata": {},
   "source": [
    "# 3. word cloud"
   ]
  },
  {
   "cell_type": "code",
   "execution_count": 8,
   "metadata": {},
   "outputs": [
    {
     "name": "stdout",
     "output_type": "stream",
     "text": [
      "['/usr/local/lib/python3.6/dist-packages/matplotlib']\n"
     ]
    }
   ],
   "source": [
    "import matplotlib\n",
    "print(matplotlib.__path__)"
   ]
  },
  {
   "cell_type": "code",
   "execution_count": 9,
   "metadata": {},
   "outputs": [
    {
     "data": {
      "text/plain": [
       "<Figure size 640x480 with 1 Axes>"
      ]
     },
     "metadata": {},
     "output_type": "display_data"
    }
   ],
   "source": [
    "import numpy as np\n",
    "import matplotlib.pyplot as plt\n",
    "from wordcloud import WordCloud\n",
    "\n",
    "def plot_word_cloud(word_importance:dict):\n",
    "    x, y = np.ogrid[:300, :300]\n",
    "    mask = (x - 150) ** 2 + (y - 150) ** 2 > 130 ** 2\n",
    "    mask = 255 * mask.astype(int)\n",
    "\n",
    "    wc = WordCloud(background_color=\"white\", repeat=True, font_path= matplotlib.__path__[0] +'/SimHei.ttf')\n",
    "    wc.generate_from_frequencies(word_importance)\n",
    "\n",
    "    plt.axis(\"off\")\n",
    "    plt.imshow(wc, interpolation=\"bilinear\")\n",
    "    plt.show()\n",
    "    \n",
    "plot_word_cloud(dict(tfidf_key_words(term_freqs[0])))"
   ]
  },
  {
   "cell_type": "code",
   "execution_count": 10,
   "metadata": {},
   "outputs": [
    {
     "data": {
      "image/png": "[encoded data removed]",
      "text/plain": [
       "<Figure size 432x288 with 1 Axes>"
      ]
     },
     "metadata": {
      "needs_background": "light"
     },
     "output_type": "display_data"
    }
   ],
   "source": [
    "plot_word_cloud(dict(tfidf_key_words(term_freqs[5])))"
   ]
  },
  {
   "cell_type": "markdown",
   "metadata": {},
   "source": [
    "# 4. get related key words\n",
    "## 4.1. word2vec wiki + new corpus"
   ]
  },
  {
   "cell_type": "code",
   "execution_count": 11,
   "metadata": {},
   "outputs": [
    {
     "name": "stdout",
     "output_type": "stream",
     "text": [
      "['有人', '猜测', '这', '也', '是', '将', '精力', '主要', '用到', 'MIUI', ' ', '9', '的', '研发', '之中', '。']\n",
      "wiki word2vec loaded...\n",
      "word2vec model updated!\n",
      "mkdir: cannot create directory ‘model’: File exists\n"
     ]
    }
   ],
   "source": [
    "from gensim.models import Word2Vec\n",
    "from tqdm import tqdm\n",
    "\n",
    "def update_word2vec():\n",
    "    training_data = [sent for doc in load_obj('data/processed_corpus') for sent in doc]\n",
    "    print(training_data[1])\n",
    "    \n",
    "    model = Word2Vec.load('../week_5/model/word2vec.model')\n",
    "    print('wiki word2vec loaded...')\n",
    "    model.build_vocab(training_data, update=True)\n",
    "    model.train(training_data , total_examples=model.corpus_count, epochs=model.epochs)\n",
    "    print('word2vec model updated!')\n",
    "    !mkdir model\n",
    "    save_obj(model, 'model/word2vec.model')\n",
    "    \n",
    "update_word2vec()"
   ]
  },
  {
   "cell_type": "code",
   "execution_count": 12,
   "metadata": {},
   "outputs": [],
   "source": [
    "model = load_obj('model/word2vec.model')"
   ]
  },
  {
   "cell_type": "markdown",
   "metadata": {},
   "source": [
    "## 4.2. spread key words\n",
    "- clustering method\n",
    "- reference: https://scikit-learn.org/stable/modules/clustering.html"
   ]
  },
  {
   "cell_type": "code",
   "execution_count": 13,
   "metadata": {},
   "outputs": [
    {
     "name": "stderr",
     "output_type": "stream",
     "text": [
      "/usr/local/lib/python3.6/dist-packages/ipykernel_launcher.py:9: DeprecationWarning: Call to deprecated `most_similar` (Method will be removed in 4.0.0, use self.wv.most_similar() instead).\n",
      "  if __name__ == '__main__':\n",
      "/home/bluan/.local/lib/python3.6/site-packages/gensim/matutils.py:737: FutureWarning: Conversion of the second argument of issubdtype from `int` to `np.signedinteger` is deprecated. In future, it will be treated as `np.int64 == np.dtype(int).type`.\n",
      "  if np.issubdtype(vec.dtype, np.int):\n"
     ]
    },
    {
     "data": {
      "text/plain": [
       "[('指出', 43),\n",
       " ('表示', 41),\n",
       " ('说', 39),\n",
       " ('称', 32),\n",
       " ('认为', 30),\n",
       " ('声称', 30),\n",
       " ('告诉', 28),\n",
       " ('坦言', 25),\n",
       " ('看来', 23),\n",
       " ('透露', 21),\n",
       " ('还称', 17),\n",
       " ('辩称', 15),\n",
       " ('明说', 14),\n",
       " ('坚称', 13),\n",
       " ('时说', 11),\n",
       " ('强调', 10),\n",
       " ('留意到', 9),\n",
       " ('坦承', 9),\n",
       " ('普遍认为', 8),\n",
       " ('宣称', 8)]"
      ]
     },
     "execution_count": 13,
     "metadata": {},
     "output_type": "execute_result"
    }
   ],
   "source": [
    "from collections import defaultdict\n",
    "def get_related_words(initial_words, model, num=20):\n",
    "    max_size = 100\n",
    "    seen = defaultdict(int)\n",
    "    unseen = [initial_words]\n",
    "    \n",
    "    while unseen and len(seen) < max_size:\n",
    "        node = unseen.pop(0)\n",
    "        new_expanding = [w for w, s in model.most_similar(node, topn=10)]\n",
    "        unseen += new_expanding\n",
    "        seen[node] += 1  \n",
    "        # if we need more sophsiticated, we need change the value as the function(layer, similarity)\n",
    "        \n",
    "    return sorted(seen.items(),key=lambda x:x[1], reverse=True)[:num]\n",
    "\n",
    "get_related_words('说', model)"
   ]
  },
  {
   "cell_type": "code",
   "execution_count": 14,
   "metadata": {},
   "outputs": [
    {
     "name": "stderr",
     "output_type": "stream",
     "text": [
      "/usr/local/lib/python3.6/dist-packages/ipykernel_launcher.py:1: DeprecationWarning: Call to deprecated `most_similar` (Method will be removed in 4.0.0, use self.wv.most_similar() instead).\n",
      "  \"\"\"Entry point for launching an IPython kernel.\n"
     ]
    },
    {
     "data": {
      "text/plain": [
       "[('表示', 0.847654402256012),\n",
       " ('告诉', 0.8047897815704346),\n",
       " ('指出', 0.768217921257019),\n",
       " ('认为', 0.7312066555023193),\n",
       " ('称', 0.6989500522613525),\n",
       " ('时说', 0.6810497045516968),\n",
       " ('看来', 0.6774933338165283),\n",
       " ('明说', 0.6692867279052734),\n",
       " ('声称', 0.6683370471000671),\n",
       " ('坦言', 0.6649725437164307),\n",
       " ('透露', 0.6419785022735596),\n",
       " ('文说', 0.6334092020988464),\n",
       " ('强调', 0.6306270360946655),\n",
       " ('介绍', 0.6150978207588196),\n",
       " ('辩称', 0.6050642132759094),\n",
       " ('还称', 0.6035895347595215),\n",
       " ('坚称', 0.6000723242759705),\n",
       " ('他称', 0.5877785086631775),\n",
       " ('所说', 0.5871649980545044),\n",
       " ('并不认为', 0.5804603099822998)]"
      ]
     },
     "execution_count": 14,
     "metadata": {},
     "output_type": "execute_result"
    }
   ],
   "source": [
    "model.most_similar('说', topn=20)"
   ]
  },
  {
   "cell_type": "code",
   "execution_count": 15,
   "metadata": {},
   "outputs": [
    {
     "name": "stderr",
     "output_type": "stream",
     "text": [
      "/usr/local/lib/python3.6/dist-packages/ipykernel_launcher.py:9: DeprecationWarning: Call to deprecated `most_similar` (Method will be removed in 4.0.0, use self.wv.most_similar() instead).\n",
      "  if __name__ == '__main__':\n"
     ]
    },
    {
     "data": {
      "text/plain": [
       "[('的', 14),\n",
       " ('，', 13),\n",
       " ('；', 10),\n",
       " ('和', 8),\n",
       " ('。', 8),\n",
       " ('“', 6),\n",
       " ('了', 4),\n",
       " ('”', 4),\n",
       " ('及', 4),\n",
       " ('、', 4),\n",
       " ('让', 4),\n",
       " ('不仅', 3),\n",
       " ('也', 3),\n",
       " ('而且', 3),\n",
       " (',', 3),\n",
       " ('对', 3),\n",
       " ('‘', 3),\n",
       " ('’', 3),\n",
       " ('可以', 3),\n",
       " ('能够', 3),\n",
       " ('会', 3),\n",
       " ('与', 2),\n",
       " ('以及', 2),\n",
       " ('及其', 2),\n",
       " ('等', 2),\n",
       " ('使', 2),\n",
       " ('因而', 2),\n",
       " ('支撑物', 2),\n",
       " ('柔软性', 2),\n",
       " ('「', 2),\n",
       " ('小人', 2),\n",
       " ('恶事', 2),\n",
       " ('能', 2),\n",
       " ('要', 2),\n",
       " ('不了', 2),\n",
       " ('足以', 2),\n",
       " ('难以', 2),\n",
       " ('没有', 2),\n",
       " ('不但', 2),\n",
       " ('都', 2)]"
      ]
     },
     "execution_count": 15,
     "metadata": {},
     "output_type": "execute_result"
    }
   ],
   "source": [
    "get_related_words('的', model,40)"
   ]
  },
  {
   "cell_type": "code",
   "execution_count": 16,
   "metadata": {},
   "outputs": [
    {
     "name": "stderr",
     "output_type": "stream",
     "text": [
      "/usr/local/lib/python3.6/dist-packages/ipykernel_launcher.py:1: DeprecationWarning: Call to deprecated `most_similar` (Method will be removed in 4.0.0, use self.wv.most_similar() instead).\n",
      "  \"\"\"Entry point for launching an IPython kernel.\n"
     ]
    },
    {
     "data": {
      "text/plain": [
       "[('，', 0.7603235244750977),\n",
       " ('和', 0.6178044676780701),\n",
       " ('。', 0.6097797751426697),\n",
       " ('“', 0.5967444181442261),\n",
       " ('了', 0.5932207703590393),\n",
       " ('不仅', 0.5847872495651245),\n",
       " ('；', 0.5691806077957153),\n",
       " ('也', 0.5538132190704346),\n",
       " ('”', 0.5342092514038086),\n",
       " ('而且', 0.5322588086128235),\n",
       " ('都', 0.529591977596283),\n",
       " ('对', 0.527900218963623),\n",
       " ('这些', 0.5271453261375427),\n",
       " ('而', 0.5256970524787903),\n",
       " ('在', 0.5208359956741333),\n",
       " ('让', 0.5171656608581543),\n",
       " ('其', 0.5165321826934814),\n",
       " ('本身', 0.5157190561294556),\n",
       " ('有', 0.5136260390281677),\n",
       " ('因为', 0.5041460990905762),\n",
       " ('往往', 0.5011410713195801),\n",
       " ('分配资源', 0.4992211163043976),\n",
       " ('这种', 0.498093843460083),\n",
       " ('‘', 0.494701623916626),\n",
       " ('既', 0.49042320251464844),\n",
       " ('但', 0.4895403981208801),\n",
       " ('支撑物', 0.48830199241638184),\n",
       " ('雕琢', 0.4876566529273987),\n",
       " ('这个', 0.48026561737060547),\n",
       " ('强韧', 0.4798923134803772),\n",
       " ('把', 0.47867700457572937),\n",
       " ('同样', 0.4782991409301758),\n",
       " ('价廉', 0.4776587188243866),\n",
       " ('延展性', 0.4771752953529358),\n",
       " ('形体', 0.47648268938064575),\n",
       " ('能够', 0.4761957824230194),\n",
       " ('粘性', 0.47597402334213257),\n",
       " ('异质性', 0.47312670946121216),\n",
       " ('塑形', 0.4719608426094055),\n",
       " ('各种', 0.4701988697052002)]"
      ]
     },
     "execution_count": 16,
     "metadata": {},
     "output_type": "execute_result"
    }
   ],
   "source": [
    "model.most_similar('的', topn=40)"
   ]
  },
  {
   "cell_type": "markdown",
   "metadata": {},
   "source": [
    "# 5. NER"
   ]
  },
  {
   "cell_type": "code",
   "execution_count": null,
   "metadata": {},
   "outputs": [],
   "source": []
  },
  {
   "cell_type": "markdown",
   "metadata": {},
   "source": [
    "## 5.1. Stanford CoreNLP"
   ]
  },
  {
   "cell_type": "code",
   "execution_count": null,
   "metadata": {},
   "outputs": [],
   "source": []
  },
  {
   "cell_type": "markdown",
   "metadata": {},
   "source": [
    "## 5.2. HIT LPT"
   ]
  },
  {
   "cell_type": "code",
   "execution_count": null,
   "metadata": {},
   "outputs": [],
   "source": []
  },
  {
   "cell_type": "markdown",
   "metadata": {},
   "source": [
    "## 5.3. Jieba"
   ]
  },
  {
   "cell_type": "code",
   "execution_count": null,
   "metadata": {},
   "outputs": [],
   "source": []
  },
  {
   "cell_type": "markdown",
   "metadata": {},
   "source": [
    "# 6. POS and Dependency parseing"
   ]
  },
  {
   "cell_type": "code",
   "execution_count": null,
   "metadata": {},
   "outputs": [],
   "source": []
  },
  {
   "cell_type": "code",
   "execution_count": null,
   "metadata": {},
   "outputs": [],
   "source": []
  },
  {
   "cell_type": "code",
   "execution_count": null,
   "metadata": {},
   "outputs": [],
   "source": []
  }
 ],
 "metadata": {
  "kernelspec": {
   "display_name": "Python 3",
   "language": "python",
   "name": "python3"
  },
  "language_info": {
   "codemirror_mode": {
    "name": "ipython",
    "version": 3
   },
   "file_extension": ".py",
   "mimetype": "text/x-python",
   "name": "python",
   "nbconvert_exporter": "python",
   "pygments_lexer": "ipython3",
   "version": "3.6.6"
  }
 },
 "nbformat": 4,
 "nbformat_minor": 2
}
