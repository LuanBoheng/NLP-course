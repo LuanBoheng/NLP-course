{
 "cells": [
  {
   "cell_type": "markdown",
   "metadata": {},
   "source": [
    "## 1. Get data from web page\n",
    "```\n",
    "    a. Get web page source from: https://baike.baidu.com/item/%E5%8C%97%E4%BA%AC%E5%9C%B0%E9%93%81/408485;\n",
    "    b. You may need @package requests page to get the response via url;\n",
    "    c. You may need save the page source to file system.\n",
    "    d. The target of this step is get station information of all the subway lines;\n",
    "    e. You may need install @package beautiful soup to get the url information, or\n",
    "    just use Regular Expression to get the url. Our recommendation is that using\n",
    "    the Regular Expression and BeautiflSoup both.\n",
    "    f. You may need BFS to get all the related page url from one url.\n",
    "  \n",
    "Question: Why do we use BFS to traverse web page (or someone said, build a web spider)? Can DFS do this job? which is better?\n",
    "```"
   ]
  },
  {
   "cell_type": "code",
   "execution_count": null,
   "metadata": {},
   "outputs": [],
   "source": []
  }
 ],
 "metadata": {
  "kernelspec": {
   "display_name": "Python 3",
   "language": "python",
   "name": "python3"
  },
  "language_info": {
   "codemirror_mode": {
    "name": "ipython",
    "version": 3
   },
   "file_extension": ".py",
   "mimetype": "text/x-python",
   "name": "python",
   "nbconvert_exporter": "python",
   "pygments_lexer": "ipython3",
   "version": "3.6.4"
  }
 },
 "nbformat": 4,
 "nbformat_minor": 2
}
