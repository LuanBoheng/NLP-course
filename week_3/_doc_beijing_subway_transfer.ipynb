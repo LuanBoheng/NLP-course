{
 "cells": [
  {
   "cell_type": "markdown",
   "metadata": {},
   "source": [
    "## 1. Get data from web page.\n",
    "```\n",
    "    a. Get web page source from: https://baike.baidu.com/item/%E5%8C%97%E4%BA%AC%E5%9C%B0%E9%93%81/408485;\n",
    "    b. You may need @package requests page to get the response via url;\n",
    "    c. You may need save the page source to file system.\n",
    "    d. The target of this step is get station information of all the subway lines;\n",
    "    e. You may need install @package beautiful soup to get the url information, or\n",
    "       just use Regular Expression to get the url. Our recommendation is that using\n",
    "       the Regular Expression and BeautiflSoup both.\n",
    "    f. You may need BFS to get all the related page url from one url.\n",
    "  \n",
    "Question: Why do we use BFS to traverse web page (or someone said, build a web spider)? Can DFS do this job? which is better?\n",
    "```"
   ]
  },
  {
   "cell_type": "code",
   "execution_count": 1,
   "metadata": {},
   "outputs": [],
   "source": [
    "import random\n",
    "import requests\n",
    "import json\n",
    "\n",
    "def get_header():\n",
    "    USER_AGENTS = [\n",
    "        \"Mozilla/4.0 (compatible; MSIE 6.0; Windows NT 5.1; SV1; AcooBrowser; .NET CLR 1.1.4322; .NET CLR 2.0.50727)\",\n",
    "        \"Mozilla/4.0 (compatible; MSIE 7.0; Windows NT 6.0; Acoo Browser; SLCC1; .NET CLR 2.0.50727; Media Center PC 5.0; .NET CLR 3.0.04506)\",\n",
    "        \"Mozilla/4.0 (compatible; MSIE 7.0; AOL 9.5; AOLBuild 4337.35; Windows NT 5.1; .NET CLR 1.1.4322; .NET CLR 2.0.50727)\",\n",
    "        \"Mozilla/5.0 (Windows; U; MSIE 9.0; Windows NT 9.0; en-US)\",\n",
    "        \"Mozilla/5.0 (compatible; MSIE 9.0; Windows NT 6.1; Win64; x64; Trident/5.0; .NET CLR 3.5.30729; .NET CLR 3.0.30729; .NET CLR 2.0.50727; Media Center PC 6.0)\",\n",
    "        \"Mozilla/5.0 (compatible; MSIE 8.0; Windows NT 6.0; Trident/4.0; WOW64; Trident/4.0; SLCC2; .NET CLR 2.0.50727; .NET CLR 3.5.30729; .NET CLR 3.0.30729; .NET CLR 1.0.3705; .NET CLR 1.1.4322)\",\n",
    "        \"Mozilla/4.0 (compatible; MSIE 7.0b; Windows NT 5.2; .NET CLR 1.1.4322; .NET CLR 2.0.50727; InfoPath.2; .NET CLR 3.0.04506.30)\",\n",
    "        \"Mozilla/5.0 (Windows; U; Windows NT 5.1; zh-CN) AppleWebKit/523.15 (KHTML, like Gecko, Safari/419.3) Arora/0.3 (Change: 287 c9dfb30)\",\n",
    "        \"Mozilla/5.0 (X11; U; Linux; en-US) AppleWebKit/527+ (KHTML, like Gecko, Safari/419.3) Arora/0.6\"\n",
    "    ]\n",
    "    return {'User-Agent':random.choice(USER_AGENTS)}\n",
    "    \n",
    "\n",
    "def get_html(url:str,headers=get_header()):\n",
    "    html = requests.get(url, headers=headers).content\n",
    "    return str(html,'utf-8')"
   ]
  },
  {
   "cell_type": "markdown",
   "metadata": {},
   "source": [
    "target looks like:\n",
    "```html\n",
    "<a target=\"_blank\" href=\"/item/%E5%8C%97%E4%BA%AC%E5%9C%B0%E9%93%811%E5%8F%B7%E7%BA%BF\">北京地铁1号线</a>\n",
    "```\n",
    "full http request:\n",
    "```http\n",
    "https://baike.baidu.com/item/%E5%8C%97%E4%BA%AC%E5%9C%B0%E9%93%811%E5%8F%B7%E7%BA%BF\n",
    "```"
   ]
  },
  {
   "cell_type": "code",
   "execution_count": 2,
   "metadata": {},
   "outputs": [
    {
     "data": {
      "text/plain": [
       "[('北京地铁8号线',\n",
       "  'https://baike.baidu.com/item/%E5%8C%97%E4%BA%AC%E5%9C%B0%E9%93%818%E5%8F%B7%E7%BA%BF'),\n",
       " ('北京地铁2号线',\n",
       "  'https://baike.baidu.com/item/%E5%8C%97%E4%BA%AC%E5%9C%B0%E9%93%812%E5%8F%B7%E7%BA%BF'),\n",
       " ('北京地铁5号线',\n",
       "  'https://baike.baidu.com/item/%E5%8C%97%E4%BA%AC%E5%9C%B0%E9%93%815%E5%8F%B7%E7%BA%BF'),\n",
       " ('北京地铁7号线',\n",
       "  'https://baike.baidu.com/item/%E5%8C%97%E4%BA%AC%E5%9C%B0%E9%93%817%E5%8F%B7%E7%BA%BF'),\n",
       " ('北京地铁6号线',\n",
       "  'https://baike.baidu.com/item/%E5%8C%97%E4%BA%AC%E5%9C%B0%E9%93%816%E5%8F%B7%E7%BA%BF'),\n",
       " ('北京地铁4号线',\n",
       "  'https://baike.baidu.com/item/%E5%8C%97%E4%BA%AC%E5%9C%B0%E9%93%814%E5%8F%B7%E7%BA%BF'),\n",
       " ('北京地铁1号线',\n",
       "  'https://baike.baidu.com/item/%E5%8C%97%E4%BA%AC%E5%9C%B0%E9%93%811%E5%8F%B7%E7%BA%BF'),\n",
       " ('北京地铁9号线',\n",
       "  'https://baike.baidu.com/item/%E5%8C%97%E4%BA%AC%E5%9C%B0%E9%93%819%E5%8F%B7%E7%BA%BF'),\n",
       " ('北京地铁15号线',\n",
       "  'https://baike.baidu.com/item/%E5%8C%97%E4%BA%AC%E5%9C%B0%E9%93%8115%E5%8F%B7%E7%BA%BF'),\n",
       " ('北京地铁16号线',\n",
       "  'https://baike.baidu.com/item/%E5%8C%97%E4%BA%AC%E5%9C%B0%E9%93%8116%E5%8F%B7%E7%BA%BF'),\n",
       " ('北京地铁昌平线',\n",
       "  'https://baike.baidu.com/item/%E5%8C%97%E4%BA%AC%E5%9C%B0%E9%93%81%E6%98%8C%E5%B9%B3%E7%BA%BF'),\n",
       " ('北京地铁14号线',\n",
       "  'https://baike.baidu.com/item/%E5%8C%97%E4%BA%AC%E5%9C%B0%E9%93%8114%E5%8F%B7%E7%BA%BF'),\n",
       " ('北京地铁八通线',\n",
       "  'https://baike.baidu.com/item/%E5%8C%97%E4%BA%AC%E5%9C%B0%E9%93%81%E5%85%AB%E9%80%9A%E7%BA%BF'),\n",
       " ('北京地铁10号线',\n",
       "  'https://baike.baidu.com/item/%E5%8C%97%E4%BA%AC%E5%9C%B0%E9%93%8110%E5%8F%B7%E7%BA%BF'),\n",
       " ('北京地铁亦庄线',\n",
       "  'https://baike.baidu.com/item/%E5%8C%97%E4%BA%AC%E5%9C%B0%E9%93%81%E4%BA%A6%E5%BA%84%E7%BA%BF'),\n",
       " ('北京地铁房山线',\n",
       "  'https://baike.baidu.com/item/%E5%8C%97%E4%BA%AC%E5%9C%B0%E9%93%81%E6%88%BF%E5%B1%B1%E7%BA%BF'),\n",
       " ('北京地铁大兴线',\n",
       "  'https://baike.baidu.com/item/%E5%8C%97%E4%BA%AC%E5%9C%B0%E9%93%81%E5%A4%A7%E5%85%B4%E7%BA%BF/7792898'),\n",
       " ('北京地铁13号线',\n",
       "  'https://baike.baidu.com/item/%E5%8C%97%E4%BA%AC%E5%9C%B0%E9%93%8113%E5%8F%B7%E7%BA%BF')]"
      ]
     },
     "execution_count": 2,
     "metadata": {},
     "output_type": "execute_result"
    }
   ],
   "source": [
    "import re\n",
    "url = 'https://baike.baidu.com/item/%E5%8C%97%E4%BA%AC%E5%9C%B0%E9%93%81/408485'\n",
    "template = ' href=\\\"(.+?)\\\">(北京地铁.+?线)</a>'\n",
    "tasks = list(set([(name, 'https://baike.baidu.com'+link.split('\\\"')[0]) for link, name in re.findall(template, get_html(url))]))\n",
    "tasks"
   ]
  },
  {
   "cell_type": "markdown",
   "metadata": {},
   "source": [
    "## 2. Preprocessing data from page source.\n",
    "```\n",
    "    a. Based on the page source gotten from url. You may need some more preprocessing of the page.\n",
    "    b. the Regular Expression you may need to process the text information.\n",
    "    c. You may need @package networkx, @package matplotlib to visualize data.\n",
    "    d. You should build a dictionary or graph which could represent the connection information of Beijing subway routes.\n",
    "    e. You may need the defaultdict, set data structures to implement this procedure.\n",
    "```\n",
    "\n",
    "target tables looks like\n",
    "```html\n",
    "<caption>1号线相邻站间距信息统计表</caption>\n",
    "<tbody>\n",
    "...\n",
    "<\\tbody>\n",
    "```"
   ]
  },
  {
   "cell_type": "code",
   "execution_count": 3,
   "metadata": {},
   "outputs": [],
   "source": [
    "from bs4 import BeautifulSoup\n",
    "from collections import defaultdict\n",
    "import debug_tools\n",
    "\n",
    "city_graph = defaultdict(list)\n",
    "\n",
    "# @debug_tools.debug_print\n",
    "def process_task(task:tuple):\n",
    "    global city_graph\n",
    "    name, url = task\n",
    "    html = get_html(url)\n",
    "    if name == '北京地铁16号线':\n",
    "        tab = [tab for tab in BeautifulSoup(html, \"lxml\").findAll(\"table\") if '距离' in str(tab)][0]\n",
    "        for tr in tab.findAll('tr')[1:]:\n",
    "#             print([e.get_text() for e in tr.findChildren()])\n",
    "            start_end, distance = [e.get_text() for e in tr.findChildren()][-2:]\n",
    "            start, end = re.findall('\\w+', start_end)\n",
    "            distance = float(re.findall('\\d+',distance)[0])*1000\n",
    "            city_graph[start].append((end, name, distance))\n",
    "            city_graph[end].append((start, name, distance))\n",
    "            \n",
    "    else: \n",
    "        tab = [tab for tab in BeautifulSoup(html, \"lxml\").findAll(\"table\") if '距信息统计表' in str(tab)][0]\n",
    "        for tr in tab.findAll('tr')[1:]:\n",
    "#             print([e.get_text() for e in tr.findChildren()])\n",
    "            start_end, distance, direction = [e.get_text() for e in tr.findChildren()][-3:]\n",
    "            start, end = start_end.split('——')\n",
    "            distance = float(re.findall('\\d+',distance)[0])\n",
    "            city_graph[start].append((end, name, distance))\n",
    "            city_graph[end].append((start, name, distance))\n",
    "\n",
    "\n",
    "for task in tasks:\n",
    "    process_task(task)"
   ]
  },
  {
   "cell_type": "code",
   "execution_count": 4,
   "metadata": {},
   "outputs": [
    {
     "data": {
      "text/plain": [
       "[('车公庄', '北京地铁2号线', 909.0),\n",
       " ('积水潭', '北京地铁2号线', 1899.0),\n",
       " ('动物园', '北京地铁4号线', 1441.0),\n",
       " ('新街口', '北京地铁4号线', 1025.0),\n",
       " ('大钟寺', '北京地铁13号线', 2839.0)]"
      ]
     },
     "execution_count": 4,
     "metadata": {},
     "output_type": "execute_result"
    }
   ],
   "source": [
    "city_graph['西直门']"
   ]
  },
  {
   "cell_type": "markdown",
   "metadata": {},
   "source": [
    "## 3. Build the search agent\n",
    "```\n",
    "    a. Build the search agent based on the graph we build.\n",
    "    b. As much as you can to use the already implemented search agent. \n",
    "       You just need to define the is_goal, get_successor, strategy three functions.\n",
    "```"
   ]
  },
  {
   "cell_type": "code",
   "execution_count": 5,
   "metadata": {},
   "outputs": [],
   "source": [
    "import debug_tools\n",
    "'''\n",
    "graph: defaultdict(list)\n",
    "path: a list of tuple e.g. [('西直门', 'start', 0), ('积水潭', '北京地铁2号线', 1899.0), ...]\n",
    "'''\n",
    "@debug_tools.timer\n",
    "def search_destination(graph:defaultdict, start, destination, get_successor_func, is_goal_func, stratey_func):\n",
    "    pathes = [[(start, 'start', 0)]]\n",
    "    seen = set()\n",
    "    counter = 0\n",
    "    while pathes:\n",
    "#         print('pathes', pathes)\n",
    "        path = pathes.pop(0)\n",
    "        frontier = path[-1]\n",
    "        if frontier in seen: continue\n",
    "        for successor in get_successor_func(frontier):\n",
    "#             print(successor)\n",
    "            if successor[0] in [e[0] for e in path]: continue\n",
    "            counter += 1 # counter how many cities visited\n",
    "            new_path = path + [successor]\n",
    "            pathes.append(new_path)\n",
    "            if is_goal_func(successor, destination):\n",
    "                print('\\nfrontiers visited:', counter)\n",
    "                return new_path\n",
    "            \n",
    "        pathes = stratey_func(pathes)\n",
    "        seen.add(frontier)\n",
    "    return []\n",
    "\n",
    "# @debug_tools.debug_print\n",
    "def get_successors(frontier:tuple, graph:dict=city_graph):\n",
    "    return graph[frontier[0]]\n",
    "\n",
    "def is_goal(node:tuple, destination): \n",
    "    return node[0] == destination\n",
    "\n",
    "def sort_pathes(pathes, func): #and beam search\n",
    "    return sorted(pathes, key=func)\n",
    "\n",
    "def summarize(path):\n",
    "    if len(path) == 1:\n",
    "        return [path[0][:2]]\n",
    "    elif path[0][1] == path[1][1]:\n",
    "        return summarize(path[1:])\n",
    "    else:\n",
    "        return [path[0][:2]] + summarize(path[1:])\n",
    "\n",
    "def eval_path(path):\n",
    "    print(summarize(path))\n",
    "    print('stations:\\t', len(path))\n",
    "    print('transfer:\\t', get_path_transfer(path))\n",
    "    print('distance:\\t', get_path_distance(path))"
   ]
  },
  {
   "cell_type": "markdown",
   "metadata": {},
   "source": [
    "## 4. Create different policies for transfer system.\n",
    "```\n",
    "    a. Define different policies for transfer system.\n",
    "    b. Such as Shortest Path Priority(路程最短优先), Minimum Transfer Priority(最少\n",
    "    换乘优先), Comprehensive Priority(综合优先)\n",
    "    c. Implement Continuous transfer. Based on the Agent you implemented, please add\n",
    "       this feature: Besides the @param start and @param destination two stations, add\n",
    "       some more stations, we called @param by_way, it means, our path should from the start \n",
    "       and end, but also include the @param by_way stations.\n",
    "       e.g.\n",
    "            1. Input: start=A, destination=B, by_way=[C] Output: [A, ... .., C, .... B]\n",
    "            2. Input: start=A, destination=B, by_way=[C, D, E]\n",
    "            Output: [A ... C ... E ... D ... B]\n",
    "            # based on your policy, the E station could be reached firstly.\n",
    "```"
   ]
  },
  {
   "cell_type": "code",
   "execution_count": 6,
   "metadata": {},
   "outputs": [
    {
     "name": "stdout",
     "output_type": "stream",
     "text": [
      "\n",
      "frontiers visited: 501\n",
      "total_time: 0.02054619789123535 s\n",
      "[('北京站', 'start'), ('崇文门', '北京地铁2号线'), ('东四', '北京地铁5号线'), ('平安里', '北京地铁6号线'), ('西直门', '北京地铁4号线'), ('知春路', '北京地铁13号线'), ('海淀黄庄', '北京地铁10号线'), ('中关村', '北京地铁4号线')]\n",
      "stations:\t 15\n",
      "transfer:\t 7\n",
      "distance:\t 17347.0\n",
      "\n",
      "frontiers visited: 232\n",
      "total_time: 0.016015052795410156 s\n",
      "[('北京站', 'start'), ('西直门', '北京地铁2号线'), ('中关村', '北京地铁4号线')]\n",
      "stations:\t 16\n",
      "transfer:\t 2\n",
      "distance:\t 18173.0\n",
      "\n",
      "frontiers visited: 471\n",
      "total_time: 0.003964900970458984 s\n",
      "[('北京站', 'start'), ('朝阳门', '北京地铁2号线'), ('南锣鼓巷', '北京地铁6号线'), ('鼓楼大街', '北京地铁8号线'), ('西直门', '北京地铁2号线'), ('知春路', '北京地铁13号线'), ('海淀黄庄', '北京地铁10号线'), ('中关村', '北京地铁4号线')]\n",
      "stations:\t 14\n",
      "transfer:\t 7\n",
      "distance:\t 18777.0\n"
     ]
    }
   ],
   "source": [
    "def get_path_distance(path):\n",
    "    return sum([e[2] for e in path])\n",
    "\n",
    "def get_path_transfer(path):\n",
    "    transfer = 0 #start point\n",
    "    lines = [e[1] for e in path]\n",
    "    for i in range(len(path)-1):\n",
    "        if lines[i] != lines[i+1]:\n",
    "            transfer += 1\n",
    "    return transfer\n",
    "\n",
    "\n",
    "def min_distance(pathes):\n",
    "    return sort_pathes(pathes, get_path_distance)\n",
    "\n",
    "def min_station(pathes):\n",
    "    return sort_pathes(pathes, lambda pathes: len(pathes))\n",
    "\n",
    "def min_transfer(pathes):\n",
    "    return sort_pathes(pathes, get_path_transfer)\n",
    "\n",
    "debug_tools.is_debug = True\n",
    "eval_path(search_destination(city_graph, '北京站', '中关村', get_successors, is_goal, min_distance))\n",
    "eval_path(search_destination(city_graph, '北京站', '中关村', get_successors, is_goal, min_transfer))\n",
    "eval_path(search_destination(city_graph, '北京站', '中关村', get_successors, is_goal, min_station))"
   ]
  },
  {
   "cell_type": "markdown",
   "metadata": {},
   "source": [
    "## 5. Test your result with commercial applications. \n",
    "将你的结果和高德地图或者百度地图进行比较，如果有不同，请分析原因"
   ]
  },
  {
   "cell_type": "code",
   "execution_count": 7,
   "metadata": {},
   "outputs": [
    {
     "name": "stdout",
     "output_type": "stream",
     "text": [
      "\n",
      "frontiers visited: 13\n",
      "\n",
      "frontiers visited: 78\n",
      "[('北京站', 'start'), ('宣武门', '北京地铁2号线'), ('中关村', '北京地铁4号线')]\n",
      "stations:\t 17\n",
      "transfer:\t 2\n",
      "distance:\t 18229.0\n",
      "\n",
      "frontiers visited: 32\n",
      "\n",
      "frontiers visited: 44\n",
      "[('北京站', 'start'), ('西直门', '北京地铁2号线'), ('中关村', '北京地铁4号线')]\n",
      "stations:\t 16\n",
      "transfer:\t 2\n",
      "distance:\t 18173.0\n"
     ]
    }
   ],
   "source": [
    "debug_tools.is_debug = False\n",
    "baidu_path = search_destination(city_graph, '北京站', '宣武门', get_successors, is_goal, min_transfer) + search_destination(city_graph, '宣武门', '中关村', get_successors, is_goal, min_transfer)[1:]\n",
    "eval_path(baidu_path)\n",
    "gaode_path = search_destination(city_graph, '北京站', '西直门', get_successors, is_goal, min_transfer) + search_destination(city_graph, '西直门', '中关村', get_successors, is_goal, min_transfer)[1:]\n",
    "eval_path(gaode_path)\n",
    "tengxun_path = gaode_path"
   ]
  }
 ],
 "metadata": {
  "kernelspec": {
   "display_name": "Python 3",
   "language": "python",
   "name": "python3"
  },
  "language_info": {
   "codemirror_mode": {
    "name": "ipython",
    "version": 3
   },
   "file_extension": ".py",
   "mimetype": "text/x-python",
   "name": "python",
   "nbconvert_exporter": "python",
   "pygments_lexer": "ipython3",
   "version": "3.6.6"
  }
 },
 "nbformat": 4,
 "nbformat_minor": 2
}
