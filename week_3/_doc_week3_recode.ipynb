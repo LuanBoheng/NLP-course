{
 "cells": [
  {
   "cell_type": "markdown",
   "metadata": {},
   "source": [
    "# Lesson-03-Best-First-Search-and-A-Start-Search"
   ]
  },
  {
   "cell_type": "markdown",
   "metadata": {},
   "source": [
    "## 1. Driving Map Navigator"
   ]
  },
  {
   "cell_type": "code",
   "execution_count": 1,
   "metadata": {},
   "outputs": [],
   "source": [
    "coordination_source = \"\"\"\n",
    "{name:'兰州', geoCoord:[103.73, 36.03]},\n",
    "{name:'嘉峪关', geoCoord:[98.17, 39.47]},\n",
    "{name:'西宁', geoCoord:[101.74, 36.56]},\n",
    "{name:'成都', geoCoord:[104.06, 30.67]},\n",
    "{name:'石家庄', geoCoord:[114.48, 38.03]},\n",
    "{name:'拉萨', geoCoord:[102.73, 25.04]},\n",
    "{name:'贵阳', geoCoord:[106.71, 26.57]},\n",
    "{name:'武汉', geoCoord:[114.31, 30.52]},\n",
    "{name:'郑州', geoCoord:[113.65, 34.76]},\n",
    "{name:'济南', geoCoord:[117, 36.65]},\n",
    "{name:'南京', geoCoord:[118.78, 32.04]},\n",
    "{name:'合肥', geoCoord:[117.27, 31.86]},\n",
    "{name:'杭州', geoCoord:[120.19, 30.26]},\n",
    "{name:'南昌', geoCoord:[115.89, 28.68]},\n",
    "{name:'福州', geoCoord:[119.3, 26.08]},\n",
    "{name:'广州', geoCoord:[113.23, 23.16]},\n",
    "{name:'长沙', geoCoord:[113, 28.21]},\n",
    "//{name:'海口', geoCoord:[110.35, 20.02]},\n",
    "{name:'沈阳', geoCoord:[123.38, 41.8]},\n",
    "{name:'长春', geoCoord:[125.35, 43.88]},\n",
    "{name:'哈尔滨', geoCoord:[126.63, 45.75]},\n",
    "{name:'太原', geoCoord:[112.53, 37.87]},\n",
    "{name:'西安', geoCoord:[108.95, 34.27]},\n",
    "//{name:'台湾', geoCoord:[121.30, 25.03]},\n",
    "{name:'北京', geoCoord:[116.46, 39.92]},\n",
    "{name:'上海', geoCoord:[121.48, 31.22]},\n",
    "{name:'重庆', geoCoord:[106.54, 29.59]},\n",
    "{name:'天津', geoCoord:[117.2, 39.13]},\n",
    "{name:'呼和浩特', geoCoord:[111.65, 40.82]},\n",
    "{name:'南宁', geoCoord:[108.33, 22.84]},\n",
    "//{name:'西藏', geoCoord:[91.11, 29.97]},\n",
    "{name:'银川', geoCoord:[106.27, 38.47]},\n",
    "{name:'乌鲁木齐', geoCoord:[87.68, 43.77]},\n",
    "{name:'香港', geoCoord:[114.17, 22.28]},\n",
    "{name:'澳门', geoCoord:[113.54, 22.19]}\n",
    "\"\"\"\n",
    "\n",
    "import math\n",
    "def geo_distance(origin, destination):\n",
    "    \"\"\"\n",
    "    Calculate the Haversine distance.\n",
    "\n",
    "    Parameters\n",
    "    ----------\n",
    "    origin : tuple of float\n",
    "        (lat, long)\n",
    "    destination : tuple of float\n",
    "        (lat, long)\n",
    "\n",
    "    Returns\n",
    "    -------\n",
    "    distance_in_km : float\n",
    "\n",
    "    Examples\n",
    "    --------\n",
    "    >>> origin = (48.1372, 11.5756)  # Munich\n",
    "    >>> destination = (52.5186, 13.4083)  # Berlin\n",
    "    >>> round(distance(origin, destination), 1)\n",
    "    504.2\n",
    "    \"\"\"\n",
    "    lat1, lon1 = origin\n",
    "    lat2, lon2 = destination\n",
    "    radius = 6371  # km\n",
    "\n",
    "    dlat = math.radians(lat2 - lat1)\n",
    "    dlon = math.radians(lon2 - lon1)\n",
    "    a = (math.sin(dlat / 2) * math.sin(dlat / 2) +\n",
    "         math.cos(math.radians(lat1)) * math.cos(math.radians(lat2)) *\n",
    "         math.sin(dlon / 2) * math.sin(dlon / 2))\n",
    "    c = 2 * math.atan2(math.sqrt(a), math.sqrt(1 - a))\n",
    "    d = radius * c\n",
    "\n",
    "    return d"
   ]
  },
  {
   "cell_type": "markdown",
   "metadata": {},
   "source": [
    "- Parse the Coordination Text Source to dictionary data\n",
    "- 将经纬度坐标转换为千米\n",
    "- draw networks\n",
    "- generating edges and graph"
   ]
  },
  {
   "cell_type": "code",
   "execution_count": 2,
   "metadata": {},
   "outputs": [],
   "source": [
    "import re\n",
    "import networkx as nx\n",
    "def get_coordination_dict(coordination_source):\n",
    "    city = re.findall('name:\\'(\\w+)\\'', coordination_source)\n",
    "    coordination = [(float(long), float(lat)) for long, lat in re.findall('geoCoord:\\[(.+),(.+)]', coordination_source)]\n",
    "    return dict(zip(city,coordination))\n",
    "\n",
    "city_coordinates = get_coordination_dict(coordination_source)\n",
    "city_names = list(city_coordinates.keys())\n",
    "\n",
    "city_graph = nx.Graph()\n",
    "city_graph.add_nodes_from(city_names)\n",
    "\n",
    "nx.draw(city_graph, city_coordinates, with_labels=True, node_size=20)"
   ]
  },
  {
   "cell_type": "code",
   "execution_count": 3,
   "metadata": {},
   "outputs": [
    {
     "data": {
      "text/plain": [
       "153.5185697155768"
      ]
     },
     "execution_count": 3,
     "metadata": {},
     "output_type": "execute_result"
    }
   ],
   "source": [
    "def get_geo_distance(origin, destination):\n",
    "    global city_coordinates\n",
    "    return geo_distance(city_coordinates[origin], city_coordinates[destination])\n",
    "\n",
    "get_geo_distance('杭州', '上海')"
   ]
  },
  {
   "cell_type": "code",
   "execution_count": 14,
   "metadata": {},
   "outputs": [
    {
     "data": {
      "image/png": "[encoded data removed]",
      "text/plain": [
       "<matplotlib.figure.Figure at 0x1513916208>"
      ]
     },
     "metadata": {},
     "output_type": "display_data"
    }
   ],
   "source": [
    "threshold = 70\n",
    "city_edges = {s:[e for e in city_names if get_geo_distance(s,e) <= threshold] for s in city_names}\n",
    "city_edges_graph = nx.Graph(city_edges)\n",
    "\n",
    "nx.draw(city_edges_graph, city_coordinates, with_labels=True, node_size=2)"
   ]
  },
  {
   "cell_type": "markdown",
   "metadata": {},
   "source": [
    "## 2. Searching Paradigm\n",
    "- Paradigm\n",
    "- Best first search\n",
    "- A star"
   ]
  },
  {
   "cell_type": "code",
   "execution_count": 5,
   "metadata": {},
   "outputs": [],
   "source": [
    "import debug_tools\n",
    "\n",
    "def search_destination(graph, start, get_successor_func, is_goal_func, stratey_func):\n",
    "    pathes = [[start]]\n",
    "    seen = set()\n",
    "    counter = 0\n",
    "    while pathes:\n",
    "        path = pathes.pop(0)\n",
    "        frontier = path[-1]\n",
    "        if frontier in seen: continue\n",
    "        for successor in get_successor_func(frontier, graph):\n",
    "            if successor in path: continue\n",
    "            counter += 1 # counter how many cities visited\n",
    "            new_path = path + [successor]\n",
    "            pathes.append(new_path)\n",
    "            if is_goal_func(successor):\n",
    "                print('frontiers visited:', counter)\n",
    "                return new_path\n",
    "            \n",
    "        pathes = stratey_func(pathes)\n",
    "        seen.add(frontier)\n",
    "    return []\n",
    "\n",
    "# @debug_tools.debug_print\n",
    "def get_successors(frontier, graph:dict):\n",
    "    return graph[frontier]\n",
    "\n",
    "def is_goal(node, destination): \n",
    "    return node == desitnation\n",
    "\n",
    "def sort_pathes(pathes, func, beam): #and beam search\n",
    "    return sorted(pathes, key=func)[:beam]\n",
    "\n",
    "# @debug_tools.debug_print\n",
    "def get_path_distance(path):\n",
    "    return sum([get_geo_distance(path[i], path[i+1]) for i in range(len(path)-1)])\n",
    "\n",
    "def eval_path(path):\n",
    "    print(path)\n",
    "    print('stations:\\t', len(path))\n",
    "    print('distance:\\t', get_path_distance(path))"
   ]
  },
  {
   "cell_type": "markdown",
   "metadata": {},
   "source": [
    "感觉这里面的chosen_pathes貌似没有用到。我的理解是分三种情况，这里使用第一种理解：\n",
    "\n",
    "1. 只要找到第一条符合条件的路径：这里面chosen_pathes被设计成空list代表没找到，不需要改动\n",
    "\n",
    "2. 要在约束不重复访问的情况下找到尽可能多的符合条件的pathes：这里中间的return new_path 改成 chosen_pathes.append(new_path)\n",
    "\n",
    "3. 想要找到所有可能的path：去掉关于seen的判断+情况2的改动\n",
    "\n",
    "stanleyliu15:\n",
    "```\n",
    "@minquan2 @bluan @anan113 大家好。前面路线少没意识到这个重要性。\n",
    "在北京地铁换乘的构造中还是存在这个问题：\n",
    "1，如果保留这一句if frontier in seen:continue，那么找出来的全线路很少，即使后面放了strategy，其实谈不上起多少作用\n",
    "2，如果放弃这一句，那么找出来的全线路太多了，虽然不至于死循环，但是太多了，很多没有必要的绕远路再返回的这种低效线路也在其中。虽然这些低效线路也许能被strategy筛掉，但历遍这些低效线路实在不是个办法\n",
    "3，anan的图片是在这个卡片吗？我没看到改变位置，只看到去掉了这句的全线路，所以有和2所说一样的问题。\n",
    "4，保留if city in path: continue，这句没问题，避免单条路线成环。这句肯定是要有的。\n",
    "```\n",
    "bluan:\n",
    "```\n",
    "@stanleyliu15 你好，我认为你说的很对。我之前也自己捉摸了一下关于seen这个东西存在的意义。我觉得其实把这个东西抽象一下的话，if frontier in seen:continue 这句话的本质是去通过一定的方法对复杂度进行约束。\n",
    "复杂度可以认为是O(|N|+|E|)，这里N是node的数量，E是edge的数量。\n",
    "\n",
    "通过seen来看是一种方法，但是我觉得这种方法在一定程度上会一刀切的局限性，有可能会漏掉比较好的解。\n",
    "我个人认为，用strategy sort一下之后加上beam search的思路也可以同样达到约束复杂度的作用，而且自由度会高一些，逻辑上也更能说的通，但是beam search的复杂度有可能略高于seen的方法。\n",
    "\n",
    "但是最终用什么办法还是得看应用场景，如果node数量特别多，那么seen的确是一个不错的办法\n",
    "```\n",
    "minquan2:\n",
    "```\n",
    "@stanleyliu15 @bluan @anan113 hi，你说的那个会产生很多绕远路然后再回去的这个情况就是之前提过的“剪枝”问题。 我们需要在扩展的时候把那些不可能的点，依照某种衡量标准去掉。 \n",
    "这个在我们数据量比较大的时候是一定需要的。\n",
    "```\n"
   ]
  },
  {
   "cell_type": "markdown",
   "metadata": {},
   "source": [
    "## 2.1 best first search"
   ]
  },
  {
   "cell_type": "code",
   "execution_count": 6,
   "metadata": {},
   "outputs": [],
   "source": [
    "def comprehensive_sort(pathes):\n",
    "    return sort_pathes(pathes, lambda p: (len(p) + get_path_distance(p)), beam=-1)\n",
    "\n",
    "def mini_change_station(pathes):\n",
    "    return sort_pathes(pathes, lambda p: len(p), beam=-1)\n",
    "\n",
    "def min_distance(pathes):\n",
    "    return sort_pathes(pathes, lambda p:get_path_distance(p), beam=-1)"
   ]
  },
  {
   "cell_type": "code",
   "execution_count": 7,
   "metadata": {},
   "outputs": [
    {
     "name": "stdout",
     "output_type": "stream",
     "text": [
      "frontiers visited: 6\n",
      "['北京', '拉萨']\n",
      "stations:\t 2\n",
      "distance:\t 1612.7137359438252\n"
     ]
    }
   ],
   "source": [
    "eval_path(search_destination(city_edges, '北京', get_successors, lambda end: end == '拉萨', comprehensive_sort))"
   ]
  },
  {
   "cell_type": "code",
   "execution_count": 8,
   "metadata": {},
   "outputs": [
    {
     "name": "stdout",
     "output_type": "stream",
     "text": [
      "frontiers visited: 6\n",
      "['北京', '拉萨']\n",
      "stations:\t 2\n",
      "distance:\t 1612.7137359438252\n"
     ]
    }
   ],
   "source": [
    "eval_path(search_destination(city_edges, '北京', get_successors, lambda end: end == '拉萨', mini_change_station))"
   ]
  },
  {
   "cell_type": "code",
   "execution_count": 9,
   "metadata": {},
   "outputs": [
    {
     "name": "stdout",
     "output_type": "stream",
     "text": [
      "frontiers visited: 6\n",
      "['北京', '拉萨']\n",
      "stations:\t 2\n",
      "distance:\t 1612.7137359438252\n"
     ]
    }
   ],
   "source": [
    "eval_path(search_destination(city_edges, '北京', get_successors, lambda end: end == '拉萨', min_distance))"
   ]
  },
  {
   "cell_type": "markdown",
   "metadata": {},
   "source": [
    "## 2.2 A star search\n",
    "- write A* for mini_change_station (heuristic function：$N*\\frac{1}{d}$)\n",
    "- write A* for min_distance (heuristic function：$get\\_geo\\_distance(current, end)$)\n",
    "- write A* for comprehensive_sort (heuristic function：sum of above)\n",
    "- compare how many times token from between different search algorithm"
   ]
  },
  {
   "cell_type": "code",
   "execution_count": 10,
   "metadata": {},
   "outputs": [],
   "source": [
    "def comprehensive_sort_A_star(pathes):\n",
    "    return sort_pathes(pathes, lambda p: (len(p) + len(city_edges)/len(city_edges[p[-1]])) + (get_path_distance(p) + get_geo_distance(p[-1], '拉萨')), beam=-1)\n",
    "\n",
    "def mini_change_station_A_star(pathes):\n",
    "    global city_edges\n",
    "    return sort_pathes(pathes, lambda p: len(p) + len(city_edges)/len(city_edges[p[-1]]), beam=-1)\n",
    "\n",
    "def min_distance_A_star(pathes):\n",
    "    return sort_pathes(pathes, lambda p: get_path_distance(p) + get_geo_distance(p[-1], '拉萨'), beam=-1)"
   ]
  },
  {
   "cell_type": "code",
   "execution_count": 11,
   "metadata": {},
   "outputs": [
    {
     "name": "stdout",
     "output_type": "stream",
     "text": [
      "frontiers visited: 6\n",
      "['北京', '拉萨']\n",
      "stations:\t 2\n",
      "distance:\t 1612.7137359438252\n"
     ]
    }
   ],
   "source": [
    "eval_path(search_destination(city_edges, '北京', get_successors, lambda end: end == '拉萨', comprehensive_sort_A_star))"
   ]
  },
  {
   "cell_type": "code",
   "execution_count": 12,
   "metadata": {},
   "outputs": [
    {
     "name": "stdout",
     "output_type": "stream",
     "text": [
      "frontiers visited: 6\n",
      "['北京', '拉萨']\n",
      "stations:\t 2\n",
      "distance:\t 1612.7137359438252\n"
     ]
    }
   ],
   "source": [
    "eval_path(search_destination(city_edges, '北京', get_successors, lambda end: end == '拉萨', mini_change_station_A_star))"
   ]
  },
  {
   "cell_type": "code",
   "execution_count": 13,
   "metadata": {},
   "outputs": [
    {
     "name": "stdout",
     "output_type": "stream",
     "text": [
      "frontiers visited: 6\n",
      "['北京', '拉萨']\n",
      "stations:\t 2\n",
      "distance:\t 1612.7137359438252\n"
     ]
    }
   ],
   "source": [
    "eval_path(search_destination(city_edges, '北京', get_successors, lambda end: end == '拉萨', min_distance_A_star))"
   ]
  }
 ],
 "metadata": {
  "kernelspec": {
   "display_name": "Python 3",
   "language": "python",
   "name": "python3"
  },
  "language_info": {
   "codemirror_mode": {
    "name": "ipython",
    "version": 3
   },
   "file_extension": ".py",
   "mimetype": "text/x-python",
   "name": "python",
   "nbconvert_exporter": "python",
   "pygments_lexer": "ipython3",
   "version": "3.6.4"
  }
 },
 "nbformat": 4,
 "nbformat_minor": 2
}
