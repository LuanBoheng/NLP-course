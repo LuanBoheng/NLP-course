{
 "cells": [
  {
   "cell_type": "markdown",
   "metadata": {},
   "source": [
    "## 1. Rod Cutting Problem"
   ]
  },
  {
   "cell_type": "code",
   "execution_count": 1,
   "metadata": {},
   "outputs": [
    {
     "data": {
      "text/plain": [
       "defaultdict(<function __main__.<lambda>>,\n",
       "            {0: 0,\n",
       "             1: 1,\n",
       "             2: 5,\n",
       "             3: 8,\n",
       "             4: 9,\n",
       "             5: 10,\n",
       "             6: 17,\n",
       "             7: 17,\n",
       "             8: 20,\n",
       "             9: 24,\n",
       "             10: 30})"
      ]
     },
     "execution_count": 1,
     "metadata": {},
     "output_type": "execute_result"
    }
   ],
   "source": [
    "from collections import defaultdict\n",
    "from functools import lru_cache\n",
    "prices = defaultdict(lambda : -float('inf'))\n",
    "for i, v in enumerate([1, 5, 8, 9, 10, 17, 17, 20, 24, 30]):\n",
    "    prices[i+1] = v\n",
    "prices[0] = 0\n",
    "prices"
   ]
  },
  {
   "cell_type": "code",
   "execution_count": 2,
   "metadata": {},
   "outputs": [
    {
     "name": "stdout",
     "output_type": "stream",
     "text": [
      "revenue(15) 43\n",
      "total_time: 4.881741046905518 s\n"
     ]
    }
   ],
   "source": [
    "import debug_tools\n",
    "\n",
    "def revenue(r):\n",
    "    global prices\n",
    "    return max([prices[r]] + [revenue(i) + revenue(r-i) for i in range(1, r)])\n",
    "\n",
    "@debug_tools.timer\n",
    "def test_func(revenue, r):\n",
    "    print('revenue({})'.format(r), revenue(r))\n",
    "\n",
    "test_func(revenue, 15)"
   ]
  },
  {
   "cell_type": "markdown",
   "metadata": {},
   "source": [
    "### 1.1 add cache"
   ]
  },
  {
   "cell_type": "code",
   "execution_count": 3,
   "metadata": {},
   "outputs": [
    {
     "name": "stdout",
     "output_type": "stream",
     "text": [
      "revenue(15) 43\n",
      "total_time: 0.00028395652770996094 s\n"
     ]
    }
   ],
   "source": [
    "@lru_cache(maxsize=16)\n",
    "def revenue(r):\n",
    "    global prices\n",
    "    return max([prices[r]] + [revenue(i) + revenue(r-i) for i in range(1, r)])\n",
    "    return r_star\n",
    "\n",
    "test_func(revenue, 15)"
   ]
  },
  {
   "cell_type": "markdown",
   "metadata": {},
   "source": [
    "### 1.2 reconstruct solution"
   ]
  },
  {
   "cell_type": "code",
   "execution_count": 4,
   "metadata": {},
   "outputs": [
    {
     "name": "stdout",
     "output_type": "stream",
     "text": [
      "revenue(15) 43\n",
      "total_time: 0.0002751350402832031 s\n"
     ]
    },
    {
     "data": {
      "text/plain": [
       "{1: 0,\n",
       " 2: 0,\n",
       " 3: 0,\n",
       " 4: 2,\n",
       " 5: 2,\n",
       " 6: 0,\n",
       " 7: 1,\n",
       " 8: 2,\n",
       " 9: 3,\n",
       " 10: 0,\n",
       " 11: 1,\n",
       " 12: 2,\n",
       " 13: 3,\n",
       " 14: 2,\n",
       " 15: 2}"
      ]
     },
     "execution_count": 4,
     "metadata": {},
     "output_type": "execute_result"
    }
   ],
   "source": [
    "solution_cache = dict()\n",
    "@lru_cache(maxsize=100)\n",
    "def revenue(r):\n",
    "    global prices\n",
    "    global solution\n",
    "    split, r_star = max([(0, prices[r])] + [(i, revenue(i) + revenue(r-i)) for i in range(1, r)], key = lambda x:x[1])\n",
    "    solution_cache[r] = split\n",
    "    return r_star\n",
    "\n",
    "test_func(revenue, 15)\n",
    "solution_cache"
   ]
  },
  {
   "cell_type": "code",
   "execution_count": 5,
   "metadata": {},
   "outputs": [
    {
     "name": "stdout",
     "output_type": "stream",
     "text": [
      "|s: get_solution ((15,), {})\n",
      "||s: get_solution ((13,), {})\n",
      "|||s: get_solution ((10,), {})\n",
      "|||e: get_solution ((10,), {}) = [10]\n",
      "||e: get_solution ((13,), {}) = [3, 10]\n",
      "|e: get_solution ((15,), {}) = [2, 3, 10]\n"
     ]
    },
    {
     "data": {
      "text/plain": [
       "[2, 3, 10]"
      ]
     },
     "execution_count": 5,
     "metadata": {},
     "output_type": "execute_result"
    }
   ],
   "source": [
    "debug_tools.stack_level = 0\n",
    "@debug_tools.debug_print\n",
    "def get_solution(r):\n",
    "    global solution_cache\n",
    "    split = solution_cache[r]\n",
    "    if split == 0:\n",
    "        return [r]\n",
    "    return [split] + get_solution(r-split)\n",
    "\n",
    "get_solution(15)"
   ]
  },
  {
   "cell_type": "markdown",
   "metadata": {},
   "source": [
    "### 1.3 looping form"
   ]
  },
  {
   "cell_type": "code",
   "execution_count": null,
   "metadata": {},
   "outputs": [],
   "source": []
  },
  {
   "cell_type": "markdown",
   "metadata": {},
   "source": [
    "### 1.4 Haskel implementation"
   ]
  },
  {
   "cell_type": "code",
   "execution_count": null,
   "metadata": {},
   "outputs": [],
   "source": []
  },
  {
   "cell_type": "markdown",
   "metadata": {},
   "source": [
    "## 2. Decorators\n",
    "see more in **debug_tools.py**"
   ]
  },
  {
   "cell_type": "code",
   "execution_count": 6,
   "metadata": {},
   "outputs": [
    {
     "name": "stdout",
     "output_type": "stream",
     "text": [
      "revenue(15) 43\n",
      "total_time: 0.0004401206970214844 s\n"
     ]
    }
   ],
   "source": [
    "def memo(func):\n",
    "    cache = dict() # 写在这里自动回收\n",
    "    def wrapper(*arg):\n",
    "        if arg in cache: \n",
    "            return cache[arg]\n",
    "        else:\n",
    "            output = func(*arg)\n",
    "            cache[arg] = output\n",
    "            return output\n",
    "    return wrapper\n",
    "\n",
    "@memo\n",
    "def revenue(r):\n",
    "    global prices\n",
    "    global solution\n",
    "    split, r_star = max([(0, prices[r])] + [(i, revenue(i) + revenue(r-i)) for i in range(1, r)], key = lambda x:x[1])\n",
    "    solution_cache[r] = split\n",
    "    return r_star\n",
    "\n",
    "test_func(revenue, 15)"
   ]
  },
  {
   "cell_type": "markdown",
   "metadata": {},
   "source": [
    "## 3. Edit Distance"
   ]
  },
  {
   "cell_type": "code",
   "execution_count": 7,
   "metadata": {},
   "outputs": [
    {
     "name": "stdout",
     "output_type": "stream",
     "text": [
      "get_edit_distance(('lunaboehng', 'luanboheng')) 4\n",
      "total_time: 6.354648113250732 s\n"
     ]
    }
   ],
   "source": [
    "def get_edit_distance(string1, string2):\n",
    "    \n",
    "    if len(string1) == 0: return len(string2)\n",
    "    if len(string2) == 0: return len(string1)\n",
    "    \n",
    "    return min(\n",
    "        [get_edit_distance(string1[:-1], string2) + 1, \n",
    "         get_edit_distance(string1, string2[:-1]) + 1, \n",
    "         get_edit_distance(string1[:-1], string2[:-1]) + (0 if string1[-1] == string2[-1] else 2)])\n",
    "\n",
    "@debug_tools.timer\n",
    "def test_func(get_edit_distance, s1_s2):\n",
    "    print('get_edit_distance({})'.format(s1_s2), get_edit_distance(*s1_s2))\n",
    "    \n",
    "test_func(get_edit_distance, ('lunaboehng', 'luanboheng'))"
   ]
  },
  {
   "cell_type": "markdown",
   "metadata": {},
   "source": [
    "### 3.1 add cache"
   ]
  },
  {
   "cell_type": "code",
   "execution_count": 8,
   "metadata": {},
   "outputs": [
    {
     "name": "stdout",
     "output_type": "stream",
     "text": [
      "get_edit_distance(('lunaboehng', 'luanboheng')) 4\n",
      "total_time: 0.00043582916259765625 s\n"
     ]
    }
   ],
   "source": [
    "@memo\n",
    "def get_edit_distance(string1, string2):\n",
    "    \n",
    "    if len(string1) == 0: return len(string2)\n",
    "    if len(string2) == 0: return len(string1)\n",
    "    \n",
    "    return min(\n",
    "        [get_edit_distance(string1[:-1], string2) + 1, \n",
    "         get_edit_distance(string1, string2[:-1]) + 1, \n",
    "         get_edit_distance(string1[:-1], string2[:-1]) + (0 if string1[-1] == string2[-1] else 2)])\n",
    "\n",
    "test_func(get_edit_distance, ('lunaboehng', 'luanboheng'))"
   ]
  },
  {
   "cell_type": "markdown",
   "metadata": {},
   "source": [
    "### 3.2 reconstruct solution"
   ]
  },
  {
   "cell_type": "code",
   "execution_count": null,
   "metadata": {},
   "outputs": [],
   "source": []
  },
  {
   "cell_type": "markdown",
   "metadata": {},
   "source": [
    "### 3.3 looping form"
   ]
  },
  {
   "cell_type": "code",
   "execution_count": null,
   "metadata": {},
   "outputs": [],
   "source": []
  },
  {
   "cell_type": "markdown",
   "metadata": {},
   "source": [
    "### 3.4 Haskel implementation"
   ]
  },
  {
   "cell_type": "code",
   "execution_count": null,
   "metadata": {},
   "outputs": [],
   "source": []
  }
 ],
 "metadata": {
  "kernelspec": {
   "display_name": "Python 3",
   "language": "python",
   "name": "python3"
  },
  "language_info": {
   "codemirror_mode": {
    "name": "ipython",
    "version": 3
   },
   "file_extension": ".py",
   "mimetype": "text/x-python",
   "name": "python",
   "nbconvert_exporter": "python",
   "pygments_lexer": "ipython3",
   "version": "3.6.4"
  }
 },
 "nbformat": 4,
 "nbformat_minor": 2
}
