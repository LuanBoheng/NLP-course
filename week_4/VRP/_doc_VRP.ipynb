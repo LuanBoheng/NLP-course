{
 "cells": [
  {
   "cell_type": "markdown",
   "metadata": {},
   "source": [
    "## VRP\n",
    "reference: \n",
    "- https://en.wikipedia.org/wiki/Vehicle_routing_problem\n",
    "- https://www.zhihu.com/question/275293660\n",
    "\n",
    "![image](Figure_illustrating_the_vehicle_routing_problem.png)"
   ]
  },
  {
   "cell_type": "markdown",
   "metadata": {},
   "source": []
  },
  {
   "cell_type": "code",
   "execution_count": 1,
   "metadata": {},
   "outputs": [
    {
     "data": {
      "text/plain": [
       "<Figure size 640x480 with 1 Axes>"
      ]
     },
     "metadata": {},
     "output_type": "display_data"
    }
   ],
   "source": [
    "import matplotlib.pyplot as plt\n",
    "import numpy as np\n",
    "import pandas as pd\n",
    "def generate_data():\n",
    "    size = 10\n",
    "    X = np.random.random(size)\n",
    "    Y = np.random.random(size)\n",
    "\n",
    "    plt.figure('data')\n",
    "    plt.scatter(X,Y,alpha=0.25)\n",
    "    plt.show()\n",
    "\n",
    "    data = pd.DataFrame({'X':X, 'Y':Y})\n",
    "    data.index.name = 'id'\n",
    "    data.head()\n",
    "    data.to_csv('data/coordnates.csv')\n",
    "\n",
    "generate_data()"
   ]
  },
  {
   "cell_type": "code",
   "execution_count": 2,
   "metadata": {},
   "outputs": [
    {
     "data": {
      "text/plain": [
       "{'0': (0.1664646683978377, 0.4794948642842665),\n",
       " '1': (0.6480712651188881, 0.3465039881910501),\n",
       " '2': (0.3917914557935077, 0.4381549796359445),\n",
       " '3': (0.481162229906945, 0.4334612798838712),\n",
       " '4': (0.6445258982757863, 0.6196696331773636),\n",
       " '5': (0.6866070091688393, 0.8438814223076123),\n",
       " '6': (0.7771593651742288, 0.6614673572006546),\n",
       " '7': (0.07959878561818345, 0.5396423418416599),\n",
       " '8': (0.5790996084750809, 0.7324588770181835),\n",
       " '9': (0.27425569295754704, 0.7673917025363242)}"
      ]
     },
     "execution_count": 2,
     "metadata": {},
     "output_type": "execute_result"
    }
   ],
   "source": [
    "import matplotlib.pyplot as plt\n",
    "import numpy as np\n",
    "import pandas as pd\n",
    "coordinates = pd.read_csv('data/coordnates.csv')\n",
    "coordinates = {str(int(_id)):(x,y) for _id, x, y in coordinates[['id', 'X', 'Y']].values}\n",
    "coordinates"
   ]
  },
  {
   "cell_type": "code",
   "execution_count": 3,
   "metadata": {},
   "outputs": [
    {
     "data": {
      "image/png": "[encoded data removed]",
      "text/plain": [
       "<Figure size 432x288 with 1 Axes>"
      ]
     },
     "metadata": {},
     "output_type": "display_data"
    }
   ],
   "source": [
    "import networkx as nx\n",
    "coordinates['s'] = (0.5, 0.5)\n",
    "graph = nx.Graph()\n",
    "graph.add_nodes_from(coordinates.keys())\n",
    "nx.draw(graph, coordinates, with_labels=True)"
   ]
  },
  {
   "cell_type": "code",
   "execution_count": 4,
   "metadata": {},
   "outputs": [],
   "source": [
    "from functools import lru_cache\n",
    "from math import sqrt\n",
    "import debug_tools\n",
    "import time\n",
    "\n",
    "#p2p refers to point to point\n",
    "# @lru_cache(15*15)\n",
    "# @debug_tools.debug_print\n",
    "def get_p2p_distance(point1:str, point2:str):\n",
    "    global coordinates\n",
    "    x1, y1 = coordinates[point1]\n",
    "    x2, y2 = coordinates[point2]\n",
    "    return sqrt((x1-x2)**2 + (y1-y2)**2)\n",
    "\n",
    "# p2s refers to point to shape\n",
    "# @debug_tools.debug_print\n",
    "def get_p2s_distance(point:str, trace:list):\n",
    "    # trace is a list of edges\n",
    "    # edge = (point1, point2)\n",
    "    \n",
    "    # 到一个edge的两个点距离之和最小\n",
    "    closest_edge = min(trace, key = lambda e:get_p2p_distance(point, e[0]) * get_p2p_distance(point, e[1])) \n",
    "    # 如果把<a,b> 替换成 <a,c>, <c,d> 路程会增加多少\n",
    "    distance_increase = get_p2p_distance(closest_edge[0], point) + get_p2p_distance(closest_edge[1], point) - get_p2p_distance(*closest_edge) \n",
    "    return distance_increase, closest_edge, point\n",
    "\n",
    "# @debug_tools.debug_print\n",
    "def visulize_trace(trace):\n",
    "    global coordinates\n",
    "    edges = {s:[e] for s, e in trace}\n",
    "    graph = nx.DiGraph(edges)\n",
    "    graph.add_nodes_from(coordinates.keys())\n",
    "    nx.draw(graph, coordinates, with_labels=True)\n",
    "    plt.show()"
   ]
  },
  {
   "cell_type": "markdown",
   "metadata": {},
   "source": [
    "## TSP Dynamic Programming solution"
   ]
  },
  {
   "cell_type": "code",
   "execution_count": 5,
   "metadata": {},
   "outputs": [
    {
     "data": {
      "image/png": "[encoded data removed]",
      "text/plain": [
       "<Figure size 432x288 with 1 Axes>"
      ]
     },
     "metadata": {},
     "output_type": "display_data"
    },
    {
     "data": {
      "text/plain": [
       "[('s', '3'),\n",
       " ('3', '2'),\n",
       " ('2', '0'),\n",
       " ('0', '7'),\n",
       " ('7', '9'),\n",
       " ('9', '8'),\n",
       " ('8', '5'),\n",
       " ('5', '6'),\n",
       " ('6', '4'),\n",
       " ('4', '1'),\n",
       " ('1', 's')]"
      ]
     },
     "execution_count": 5,
     "metadata": {},
     "output_type": "execute_result"
    }
   ],
   "source": [
    "class route:\n",
    "#     @debug_tools.debug_print\n",
    "    def __init__(self, trace):\n",
    "        global coordinates\n",
    "        self.trace  = trace # a list of tuple (edges)\n",
    "        self.length = sum([get_p2p_distance(*e) for e in trace])\n",
    "    \n",
    "    def add(self, node):\n",
    "        end_of_trace = self.trace[-1][-1]\n",
    "        new_route = route([])\n",
    "        new_route.trace = self.trace  + [(end_of_trace, node)]\n",
    "        new_route.length = self.length + get_p2p_distance(end_of_trace, node)\n",
    "        return new_route\n",
    "\n",
    "debug_tools.stack_level = 0\n",
    "\n",
    "@lru_cache(maxsize=10**10)\n",
    "def opt_route(need_visited, end):\n",
    "    # need_visited is a set of node\n",
    "    if len(need_visited) == 1:\n",
    "        return route([('s', end)])\n",
    "    else:\n",
    "        S = tuple([n for n in need_visited if n!=end])\n",
    "        routes = [opt_route(S, n).add(end) for n in S]\n",
    "        return min(routes, key=lambda r: r.length)\n",
    "\n",
    "\n",
    "need_visited = tuple([e for e in coordinates.keys() if e != 's'])\n",
    "best_route = opt_route(need_visited,'s')\n",
    "visulize_trace(best_route.trace)\n",
    "best_route.trace"
   ]
  },
  {
   "cell_type": "code",
   "execution_count": null,
   "metadata": {},
   "outputs": [],
   "source": []
  }
 ],
 "metadata": {
  "kernelspec": {
   "display_name": "Python 3",
   "language": "python",
   "name": "python3"
  },
  "language_info": {
   "codemirror_mode": {
    "name": "ipython",
    "version": 3
   },
   "file_extension": ".py",
   "mimetype": "text/x-python",
   "name": "python",
   "nbconvert_exporter": "python",
   "pygments_lexer": "ipython3",
   "version": "3.6.6"
  }
 },
 "nbformat": 4,
 "nbformat_minor": 2
}
