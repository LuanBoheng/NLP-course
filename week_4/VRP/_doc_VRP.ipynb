{
 "cells": [
  {
   "cell_type": "markdown",
   "metadata": {},
   "source": [
    "## VRP\n",
    "reference: \n",
    "- https://en.wikipedia.org/wiki/Vehicle_routing_problem\n",
    "- https://www.zhihu.com/question/275293660\n",
    "\n",
    "![image](Figure_illustrating_the_vehicle_routing_problem.png)"
   ]
  },
  {
   "cell_type": "markdown",
   "metadata": {},
   "source": []
  },
  {
   "cell_type": "code",
   "execution_count": 1,
   "metadata": {},
   "outputs": [
    {
     "data": {
      "text/plain": [
       "<Figure size 640x480 with 1 Axes>"
      ]
     },
     "metadata": {},
     "output_type": "display_data"
    }
   ],
   "source": [
    "import matplotlib.pyplot as plt\n",
    "import numpy as np\n",
    "import pandas as pd\n",
    "def generate_data():\n",
    "    size = 10\n",
    "    X = np.random.random(size)\n",
    "    Y = np.random.random(size)\n",
    "\n",
    "    plt.figure('data')\n",
    "    plt.scatter(X,Y,alpha=0.25)\n",
    "    plt.show()\n",
    "\n",
    "    data = pd.DataFrame({'X':X, 'Y':Y})\n",
    "    data.index.name = 'id'\n",
    "    data.head()\n",
    "    data.to_csv('data/coordnates.csv')\n",
    "\n",
    "generate_data()"
   ]
  },
  {
   "cell_type": "code",
   "execution_count": 2,
   "metadata": {},
   "outputs": [
    {
     "data": {
      "text/plain": [
       "{'0': (0.11603605929583127, 0.9941965399631238),\n",
       " '1': (0.8594888316987958, 0.0952112031629413),\n",
       " '2': (0.3262448111718511, 0.7496391875884506),\n",
       " '3': (0.5478572012878757, 0.009864960635934006),\n",
       " '4': (0.9738745664565852, 0.020673631172380857),\n",
       " '5': (0.07598615866175451, 0.10569418788519436),\n",
       " '6': (0.13825151492393772, 0.43471761522063934),\n",
       " '7': (0.7214609415071798, 0.14107514939153232),\n",
       " '8': (0.4971889910703252, 0.5613621086812528),\n",
       " '9': (0.3848029479088512, 0.09399752681566996)}"
      ]
     },
     "execution_count": 2,
     "metadata": {},
     "output_type": "execute_result"
    }
   ],
   "source": [
    "import matplotlib.pyplot as plt\n",
    "import numpy as np\n",
    "import pandas as pd\n",
    "coordinates = pd.read_csv('data/coordnates.csv')\n",
    "coordinates = {str(int(_id)):(x,y) for _id, x, y in coordinates[['id', 'X', 'Y']].values}\n",
    "coordinates"
   ]
  },
  {
   "cell_type": "code",
   "execution_count": 3,
   "metadata": {},
   "outputs": [
    {
     "data": {
      "image/png": "[encoded data removed]",
      "text/plain": [
       "<Figure size 432x288 with 1 Axes>"
      ]
     },
     "metadata": {},
     "output_type": "display_data"
    }
   ],
   "source": [
    "import networkx as nx\n",
    "coordinates['s'] = (0.5, 0.5)\n",
    "graph = nx.Graph()\n",
    "graph.add_nodes_from(coordinates.keys())\n",
    "nx.draw(graph, coordinates, with_labels=True)"
   ]
  },
  {
   "cell_type": "code",
   "execution_count": 4,
   "metadata": {},
   "outputs": [],
   "source": [
    "from functools import lru_cache\n",
    "from math import sqrt\n",
    "import debug_tools\n",
    "import time\n",
    "\n",
    "#p2p refers to point to point\n",
    "@lru_cache(15*15)\n",
    "def get_p2p_distance(point1:str, point2:str):\n",
    "    global coordinates\n",
    "    x1, y1 = coordinates[point1]\n",
    "    x2, y2 = coordinates[point2]\n",
    "    return sqrt((x1-x2)**2 + (y1-y2)**2)\n",
    "\n",
    "# @debug_tools.debug_print\n",
    "def visulize_trace(trace):\n",
    "    global coordinates\n",
    "    edges = {s:[e] for s, e in trace}\n",
    "    graph = nx.DiGraph(edges)\n",
    "    graph.add_nodes_from(coordinates.keys())\n",
    "    nx.draw(graph, coordinates, with_labels=True)\n",
    "    plt.show()"
   ]
  },
  {
   "cell_type": "markdown",
   "metadata": {},
   "source": [
    "## TSP Dynamic Programming solution"
   ]
  },
  {
   "cell_type": "code",
   "execution_count": 5,
   "metadata": {},
   "outputs": [
    {
     "data": {
      "image/png": "[encoded data removed]",
      "text/plain": [
       "<Figure size 432x288 with 1 Axes>"
      ]
     },
     "metadata": {},
     "output_type": "display_data"
    },
    {
     "name": "stdout",
     "output_type": "stream",
     "text": [
      "[('s', '7'), ('7', '1'), ('1', '4'), ('4', '3'), ('3', '9'), ('9', '5'), ('5', '6'), ('6', '0'), ('0', '2'), ('2', '8'), ('8', 's')]\n",
      "3.155395014171804\n"
     ]
    }
   ],
   "source": [
    "class route:\n",
    "    def __init__(self, trace):\n",
    "        global coordinates\n",
    "        self.trace  = trace # a list of tuple (edges)\n",
    "        self.length = sum([get_p2p_distance(*e) for e in trace])\n",
    "    \n",
    "    def add(self, node):\n",
    "        end_of_trace = self.trace[-1][-1]\n",
    "        new_route = route([])\n",
    "        new_route.trace = self.trace  + [(end_of_trace, node)]\n",
    "        new_route.length = self.length + get_p2p_distance(end_of_trace, node)\n",
    "        return new_route\n",
    "\n",
    "debug_tools.stack_level = 0\n",
    "\n",
    "@lru_cache(maxsize=10**10)\n",
    "def opt_route(need_visited, end):\n",
    "    # need_visited is a set of node\n",
    "    if len(need_visited) == 1:\n",
    "        return route([('s', end)])\n",
    "    else:\n",
    "        S = tuple([n for n in need_visited if n!=end])\n",
    "        routes = [opt_route(S, n).add(end) for n in S]\n",
    "        return min(routes, key=lambda r: r.length)\n",
    "\n",
    "\n",
    "need_visited = tuple([e for e in coordinates.keys() if e != 's'])\n",
    "best_route = opt_route(need_visited,'s')\n",
    "visulize_trace(best_route.trace)\n",
    "print(best_route.trace)\n",
    "print(best_route.length)"
   ]
  },
  {
   "cell_type": "code",
   "execution_count": 6,
   "metadata": {},
   "outputs": [
    {
     "data": {
      "text/plain": [
       "[<__main__.route at 0x7effeda3a438>,\n",
       " <__main__.route at 0x7effeda22978>,\n",
       " <__main__.route at 0x7effeda22780>]"
      ]
     },
     "execution_count": 6,
     "metadata": {},
     "output_type": "execute_result"
    }
   ],
   "source": [
    "from itertools import chain, combinations\n",
    "\n",
    "def power_set(iterable):\n",
    "    \"powerset([1,2,3]) --> () (1,) (2,) (3,) (1,2) (1,3) (2,3) (1,2,3)\"\n",
    "    s = list(iterable)\n",
    "    return chain.from_iterable(combinations(s, r) for r in range(len(s)+1))\n",
    "\n",
    "class route_group:\n",
    "    def __init__(self, routes:list):\n",
    "        self.routes = routes\n",
    "        self.length = 0 if routes==[] else sum([r.length for r in routes])\n",
    "        \n",
    "    def add(self, r):\n",
    "        new_group = route_group([])\n",
    "        if type(r)==route:\n",
    "            new_group.routes = self.routes + [r]\n",
    "        else:\n",
    "            new_group.routes = self.routes + r.routes\n",
    "        new_group.length = self.length + r.length\n",
    "        return new_group\n",
    "    \n",
    "    def print_group(self):\n",
    "        print([r.trace for r in self.routes])\n",
    "\n",
    "def tsp(U):\n",
    "    if U:\n",
    "        return opt_route(U,'s')\n",
    "    else:\n",
    "        return route([])\n",
    "\n",
    "# @debug_tools.debug_print\n",
    "@lru_cache(maxsize=10**10)\n",
    "def vrp(U, k):\n",
    "    if k==1:\n",
    "        return route_group([tsp(U)])\n",
    "    else:\n",
    "        groups = []\n",
    "        for u in power_set(U):\n",
    "            group = route_group([])\n",
    "            complementary_set = tuple([n for n in U if n not in u])\n",
    "            group = group.add(vrp(complementary_set, k-1).add(tsp(u)))\n",
    "            groups.append(group)\n",
    "#             min(groups, key=lambda g: g.length).print_group()\n",
    "            \n",
    "        return min(groups, key=lambda g: g.length)\n",
    "\n",
    "\n",
    "need_visited = tuple([e for e in coordinates.keys() if e != 's'])\n",
    "best_route = vrp(need_visited,3)\n",
    "#visulize_trace(best_route.trace)\n",
    "best_route.routes"
   ]
  },
  {
   "cell_type": "code",
   "execution_count": 10,
   "metadata": {},
   "outputs": [
    {
     "name": "stdout",
     "output_type": "stream",
     "text": [
      "[[('s', '7'), ('7', '1'), ('1', '4'), ('4', '3'), ('3', '9'), ('9', '5'), ('5', '6'), ('6', '8'), ('8', 's')], [('s', 's')], [('s', 's')]]\n"
     ]
    }
   ],
   "source": [
    "best_route.print_group()"
   ]
  },
  {
   "cell_type": "code",
   "execution_count": 8,
   "metadata": {},
   "outputs": [
    {
     "data": {
      "text/plain": [
       "2.399312170222813"
      ]
     },
     "execution_count": 8,
     "metadata": {},
     "output_type": "execute_result"
    }
   ],
   "source": [
    "best_route.length"
   ]
  },
  {
   "cell_type": "code",
   "execution_count": null,
   "metadata": {},
   "outputs": [],
   "source": []
  }
 ],
 "metadata": {
  "kernelspec": {
   "display_name": "Python 3",
   "language": "python",
   "name": "python3"
  },
  "language_info": {
   "codemirror_mode": {
    "name": "ipython",
    "version": 3
   },
   "file_extension": ".py",
   "mimetype": "text/x-python",
   "name": "python",
   "nbconvert_exporter": "python",
   "pygments_lexer": "ipython3",
   "version": "3.6.6"
  }
 },
 "nbformat": 4,
 "nbformat_minor": 2
}
