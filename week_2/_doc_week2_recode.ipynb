{
 "cells": [
  {
   "cell_type": "markdown",
   "metadata": {},
   "source": [
    "## 1.文件读取\n",
    "notes:\n",
    "- !shell command 可以再 jupyter 里面执行 shell 命令\n",
    "- wiki 数据提取 >> see **corpus_processing_doc.ipnb'**\n",
    "- pandas读取文件。常见中文编码方式（e.g. 'gb18030'）\n",
    "- pandas对表中数据进行filter（titanic_train）>> see **linear_regression**"
   ]
  },
  {
   "cell_type": "markdown",
   "metadata": {},
   "source": [
    "## 2.正则表达式\n",
    "- html 文件中用正则抓取 http url\n",
    "- this section **see recode in week3**"
   ]
  },
  {
   "cell_type": "markdown",
   "metadata": {},
   "source": [
    "## 3.n-gram\n",
    "用n-gram计算句子、短语的概率\n",
    "### 3.1 词频统计 (BOW)\n",
    "- calculation of BOW see **corpus_processing_doc.ipynb**\n",
    "- 生成可以统计词频的函数的函数（lisp风格的变量作用于trick）\n",
    "- 画出词频的分布曲线"
   ]
  },
  {
   "cell_type": "code",
   "execution_count": 13,
   "metadata": {},
   "outputs": [
    {
     "name": "stdout",
     "output_type": "stream",
     "text": [
      "============= 1-gram char =============\n",
      "total word count of corpus: 389334319\n",
      "total vocabulary count: 9727\n",
      "============= 2-gram char =============\n",
      "total word count of corpus: 355228867\n",
      "total vocabulary count: 948930\n",
      "============= 1-gram word =============\n",
      "total word count of corpus: 158096450\n",
      "total vocabulary count: 296756\n",
      "============= 2-gram word =============\n",
      "total word count of corpus: 63557530\n",
      "total vocabulary count: 749114\n"
     ]
    },
    {
     "data": {
      "image/png": "[encoded data removed]",
      "text/plain": [
       "<Figure size 432x288 with 1 Axes>"
      ]
     },
     "metadata": {
      "needs_background": "light"
     },
     "output_type": "display_data"
    }
   ],
   "source": [
    "import matplotlib.pyplot as plt\n",
    "import corpus_processing as cp\n",
    "import debug_tools\n",
    "\n",
    "count_ngram1word = cp.load_obj('data/count_ngram1word')\n",
    "count_ngram2word = cp.load_obj('data/count_ngram2word')\n",
    "count_ngram1char = cp.load_obj('data/count_ngram1char')\n",
    "count_ngram2char = cp.load_obj('data/count_ngram2char')\n",
    "\n",
    "legend = []\n",
    "def visualize_counter(word_count, name):\n",
    "    global legend\n",
    "    legend.append(name)\n",
    "    freq = [f for gram, f in word_count.most_common()]\n",
    "    plt.figure('counter')\n",
    "    plt.loglog(freq, '.')\n",
    "    plt.grid(True)\n",
    "    plt.xlabel('rank of word')\n",
    "    plt.ylabel('word frequency')\n",
    "    plt.legend(legend)\n",
    "    plt.ylim([10, 10**8])\n",
    "    print('=============',name,'=============')\n",
    "    print('total word count of corpus:', sum(freq))\n",
    "    print('total vocabulary count:', len(freq))\n",
    "\n",
    "visualize_counter(count_ngram1char,'1-gram char')\n",
    "visualize_counter(count_ngram2char,'2-gram char')\n",
    "visualize_counter(count_ngram1word,'1-gram word')\n",
    "visualize_counter(count_ngram2word,'2-gram word')\n",
    "plt.show()"
   ]
  },
  {
   "cell_type": "markdown",
   "metadata": {},
   "source": [
    "### 3.2 unigram\n",
    "$\\textbf{w} = w_1...w_i...w_n$\n",
    "\n",
    "$P(\\textbf{w}) = \\prod_{i=1}^nP(w_i)$"
   ]
  },
  {
   "cell_type": "code",
   "execution_count": 2,
   "metadata": {},
   "outputs": [],
   "source": [
    "from functools import reduce, partial\n",
    "import logging\n",
    "import jieba\n",
    "jieba.setLogLevel(logging.WARNING)\n",
    "\n",
    "def get_MLE_prob_from_count(count):\n",
    "    total_count = sum(count.values())\n",
    "    @debug_tools.debug_print\n",
    "    def get_prob(w):\n",
    "        return count[w]/total_count\n",
    "    return get_prob\n",
    "\n",
    "def string_ngram_prob(string, prob_func, gram_level, n):\n",
    "    cp.gram_level = gram_level # this will effect the behavior of 'tokenize_string'\n",
    "    probs = [prob_func(tuple(token)) for token in cp.get_ngram(string, n)]\n",
    "    \n",
    "    if not probs: \n",
    "        probs = [0]\n",
    "    return reduce(lambda x, y: x*y , probs)\n",
    "\n",
    "get_1gram_prob_char = partial(string_ngram_prob, \n",
    "                              prob_func=get_MLE_prob_from_count(count_ngram1char), \n",
    "                              gram_level='char', n=1)\n",
    "\n",
    "get_1gram_prob_word = partial(string_ngram_prob, \n",
    "                              prob_func=get_MLE_prob_from_count(count_ngram1word), \n",
    "                              gram_level='word', n=1)"
   ]
  },
  {
   "cell_type": "markdown",
   "metadata": {},
   "source": [
    "test cases"
   ]
  },
  {
   "cell_type": "code",
   "execution_count": 3,
   "metadata": {},
   "outputs": [
    {
     "name": "stdout",
     "output_type": "stream",
     "text": [
      "test function: get_1gram_prob_char\n",
      "===================================\n",
      "前天晚上吃晚饭的时候 3.8350439429256126e-31\n",
      "前天晚上吃早饭的时候 7.724772467291999e-31\n",
      "===================================\n",
      "正是一个好看的小猫 1.4986935364748715e-20\n",
      "真是一个好看的小猫 4.765632570447433e-21\n",
      "===================================\n",
      "我无言以对，简直 4.264824123041106e-23\n",
      "我简直无言以对 4.264824123041106e-23\n",
      "===================================\n",
      "广州有一个地方叫做沥窖 1.55608515722977e-32\n",
      "杭州有一个地方叫做西湖 6.877388847319173e-29\n",
      "===================================\n",
      "这是一个比较常见测试用例 3.9131441795345993e-32\n",
      "这是一个比较罕见的测试用例 2.4603814628944908e-33\n",
      "\n",
      "\n",
      "test function: get_1gram_prob_word\n",
      "===================================\n",
      "前天晚上吃晚饭的时候 1.3775281090495917e-21\n",
      "前天晚上吃早饭的时候 1.2329156456060136e-25\n",
      "===================================\n",
      "正是一个好看的小猫 2.5761218816412435e-16\n",
      "真是一个好看的小猫 3.2085032220958126e-17\n",
      "===================================\n",
      "我无言以对，简直 6.889372468843494e-16\n",
      "我简直无言以对 6.889372468843495e-16\n",
      "===================================\n",
      "广州有一个地方叫做沥窖 0.0\n",
      "杭州有一个地方叫做西湖 1.1078347651166538e-19\n",
      "===================================\n",
      "这是一个比较常见测试用例 2.44250978974669e-18\n",
      "这是一个比较罕见的测试用例 6.306098352969772e-19\n",
      "\n",
      "\n"
     ]
    }
   ],
   "source": [
    "pair = \"\"\"前天晚上吃晚饭的时候\n",
    "前天晚上吃早饭的时候\"\"\".split('\\n')\n",
    "\n",
    "pair2 = \"\"\"正是一个好看的小猫\n",
    "真是一个好看的小猫\"\"\".split('\\n')\n",
    "\n",
    "pair3 = \"\"\"我无言以对，简直\n",
    "我简直无言以对\"\"\".split('\\n')\n",
    "\n",
    "pairs = [pair, pair2, pair3, ['广州有一个地方叫做沥窖', '杭州有一个地方叫做西湖'], ['这是一个比较常见测试用例','这是一个比较罕见的测试用例']]\n",
    "\n",
    "def test_pair(pairs, prob_func, name_func):\n",
    "    print('test function:', name_func)\n",
    "    for pair in pairs:\n",
    "        print('===================================')\n",
    "        for sent in pair:\n",
    "            print(sent, prob_func(sent))\n",
    "    print('\\n')\n",
    "    \n",
    "debug_tools.is_debug = False\n",
    "test_pair(pairs, get_1gram_prob_char, 'get_1gram_prob_char')\n",
    "test_pair(pairs, get_1gram_prob_word, 'get_1gram_prob_word')"
   ]
  },
  {
   "cell_type": "markdown",
   "metadata": {},
   "source": [
    "### 3.3 bigram\n",
    "$P(\\textbf{w}) = \\prod_{i=1}^nP(w_i|w_{i-1})= \\prod_{i=1}^n\\frac{P(w_{i-1},w_{i})}{P(w_{i-1})}$"
   ]
  },
  {
   "cell_type": "code",
   "execution_count": 4,
   "metadata": {},
   "outputs": [],
   "source": [
    "def get_conditional_prob(numerator_func, denominator_func):\n",
    "    @debug_tools.debug_print\n",
    "    def get_prob(token):\n",
    "        condition_token = token[:-1]\n",
    "        return numerator_func(token)/denominator_func(condition_token)\n",
    "    return get_prob\n",
    "\n",
    "conditional_prob_char = get_conditional_prob(get_MLE_prob_from_count(count_ngram2char), \n",
    "                                             get_MLE_prob_from_count(count_ngram1char))\n",
    "\n",
    "conditional_prob_word = get_conditional_prob(get_MLE_prob_from_count(count_ngram2word), \n",
    "                                             get_MLE_prob_from_count(count_ngram1word))\n",
    "\n",
    "get_2gram_prob_char = partial(string_ngram_prob, \n",
    "                              prob_func=conditional_prob_char, \n",
    "                              gram_level='char', n=2)\n",
    "\n",
    "get_2gram_prob_word = partial(string_ngram_prob, \n",
    "                              prob_func=conditional_prob_word, \n",
    "                              gram_level='word', n=2)"
   ]
  },
  {
   "cell_type": "markdown",
   "metadata": {},
   "source": [
    "one test case show the sparsity of 2gram (words level) probablity via MLE"
   ]
  },
  {
   "cell_type": "code",
   "execution_count": 5,
   "metadata": {},
   "outputs": [
    {
     "name": "stdout",
     "output_type": "stream",
     "text": [
      "test function: get_2gram_prob_word\n",
      "===================================\n",
      "get_MLE_prob_from_count.<locals>.get_prob ((('正是', '好看'),), {}) => 0.0\n",
      "get_MLE_prob_from_count.<locals>.get_prob ((('正是',),), {}) => 4.8957456033959014e-05\n",
      "get_conditional_prob.<locals>.get_prob ((('正是', '好看'),), {}) => 0.0\n",
      "get_MLE_prob_from_count.<locals>.get_prob ((('好看', '小猫'),), {}) => 0.0\n",
      "get_MLE_prob_from_count.<locals>.get_prob ((('好看',),), {}) => 2.0240808696210447e-06\n",
      "get_conditional_prob.<locals>.get_prob ((('好看', '小猫'),), {}) => 0.0\n",
      "正是一个好看的小猫 0.0\n",
      "get_MLE_prob_from_count.<locals>.get_prob ((('真是', '好看'),), {}) => 0.0\n",
      "get_MLE_prob_from_count.<locals>.get_prob ((('真是',),), {}) => 6.097543619733397e-06\n",
      "get_conditional_prob.<locals>.get_prob ((('真是', '好看'),), {}) => 0.0\n",
      "get_MLE_prob_from_count.<locals>.get_prob ((('好看', '小猫'),), {}) => 0.0\n",
      "get_MLE_prob_from_count.<locals>.get_prob ((('好看',),), {}) => 2.0240808696210447e-06\n",
      "get_conditional_prob.<locals>.get_prob ((('好看', '小猫'),), {}) => 0.0\n",
      "真是一个好看的小猫 0.0\n",
      "\n",
      "\n"
     ]
    }
   ],
   "source": [
    "debug_tools.is_debug = True\n",
    "test_pair([pairs[1]], get_2gram_prob_word, 'get_2gram_prob_word')"
   ]
  },
  {
   "cell_type": "markdown",
   "metadata": {},
   "source": [
    "all test cases"
   ]
  },
  {
   "cell_type": "code",
   "execution_count": 6,
   "metadata": {},
   "outputs": [
    {
     "name": "stdout",
     "output_type": "stream",
     "text": [
      "test function: get_2gram_prob_char\n",
      "===================================\n",
      "前天晚上吃晚饭的时候 8.044376701016833e-19\n",
      "前天晚上吃早饭的时候 8.044176890731375e-20\n",
      "===================================\n",
      "正是一个好看的小猫 6.102808501188787e-14\n",
      "真是一个好看的小猫 2.5383867920499992e-14\n",
      "===================================\n",
      "我无言以对，简直 6.91685929758551e-17\n",
      "我简直无言以对 7.174041746396637e-18\n",
      "===================================\n",
      "广州有一个地方叫做沥窖 0.0\n",
      "杭州有一个地方叫做西湖 2.4312412025640827e-17\n",
      "===================================\n",
      "这是一个比较常见测试用例 0.0\n",
      "这是一个比较罕见的测试用例 0.0\n",
      "\n",
      "\n",
      "test function: get_2gram_prob_word\n",
      "===================================\n",
      "前天晚上吃晚饭的时候 0.0\n",
      "前天晚上吃早饭的时候 0.0\n",
      "===================================\n",
      "正是一个好看的小猫 0.0\n",
      "真是一个好看的小猫 0.0\n",
      "===================================\n",
      "我无言以对，简直 0.0\n",
      "我简直无言以对 0.0\n",
      "===================================\n",
      "广州有一个地方叫做沥窖 0.0\n",
      "杭州有一个地方叫做西湖 0.0\n",
      "===================================\n",
      "这是一个比较常见测试用例 0.0\n",
      "这是一个比较罕见的测试用例 0.0\n",
      "\n",
      "\n"
     ]
    }
   ],
   "source": [
    "debug_tools.is_debug = False\n",
    "test_pair(pairs, get_2gram_prob_char, 'get_2gram_prob_char')\n",
    "test_pair(pairs, get_2gram_prob_word, 'get_2gram_prob_word')"
   ]
  },
  {
   "cell_type": "markdown",
   "metadata": {},
   "source": [
    "## 3.Good–Turing frequency estimation\n",
    "visuialize relation ship between $c$ and $N_c$\n",
    "\n",
    "reference: https://www.wikiwand.com/en/Good%E2%80%93Turing_frequency_estimation"
   ]
  },
  {
   "cell_type": "code",
   "execution_count": 7,
   "metadata": {},
   "outputs": [
    {
     "data": {
      "image/png": "[encoded data removed]",
      "text/plain": [
       "<Figure size 432x288 with 1 Axes>"
      ]
     },
     "metadata": {
      "needs_background": "light"
     },
     "output_type": "display_data"
    }
   ],
   "source": [
    "from collections import defaultdict, Counter\n",
    "import numpy as np\n",
    "\n",
    "legend = []\n",
    "def count_Nc_from_gram_count(count):\n",
    "#     def get_Nc_from_c(c, count):\n",
    "#         selected_grams = list(filter(lambda x:x[1] == c, count.items()))\n",
    "#         return len(selected_grams)\n",
    "#     c_max = count.most_common(1)[0][1]\n",
    "#     N_c = [get_Nc_from_c(c, count) for c in range(c_max+1)] #too complex\n",
    "# use sorting technics solve this question\n",
    "\n",
    "    c = count.most_common(1)[0][1]\n",
    "    N_c = 0\n",
    "    Nc_pairs = []\n",
    "    for gram, f in count.most_common():\n",
    "        if f != c:\n",
    "            Nc_pairs.append((c, N_c))\n",
    "            c, N_c = f, 1\n",
    "        else:\n",
    "            N_c += 1\n",
    "    return defaultdict(int, Nc_pairs)\n",
    "\n",
    "c_to_Nc_ngram1char = count_Nc_from_gram_count(count_ngram1char)\n",
    "c_to_Nc_ngram2char = count_Nc_from_gram_count(count_ngram2char)\n",
    "c_to_Nc_ngram1word = count_Nc_from_gram_count(count_ngram1word)\n",
    "c_to_Nc_ngram2word = count_Nc_from_gram_count(count_ngram2word)\n",
    "\n",
    "def visiualize_Nc_from_count(count_Nc, name):\n",
    "    c_list, Nc_list = tuple(zip(*count_Nc.items()))\n",
    "    legend.append(name)\n",
    "    plt.figure('Nc')\n",
    "    plt.loglog(c_list, Nc_list, '.')\n",
    "    plt.xlabel('C')\n",
    "    plt.ylabel('N_c')\n",
    "    plt.grid(True)\n",
    "    plt.legend(legend)\n",
    "\n",
    "visiualize_Nc_from_count(c_to_Nc_ngram1char,'1-gram char')\n",
    "visiualize_Nc_from_count(c_to_Nc_ngram2char,'2-gram char')\n",
    "visiualize_Nc_from_count(c_to_Nc_ngram1word,'1-gram word')\n",
    "visiualize_Nc_from_count(c_to_Nc_ngram2word,'2-gram word')\n",
    "plt.show()"
   ]
  },
  {
   "cell_type": "markdown",
   "metadata": {},
   "source": [
    "implement Turing estimation, compare the graph below with"
   ]
  },
  {
   "cell_type": "code",
   "execution_count": 8,
   "metadata": {},
   "outputs": [
    {
     "data": {
      "image/png": "[encoded data removed]",
      "text/plain": [
       "<Figure size 432x288 with 1 Axes>"
      ]
     },
     "metadata": {
      "needs_background": "light"
     },
     "output_type": "display_data"
    }
   ],
   "source": [
    "def Turing_smooth(c, c_to_Nc):\n",
    "    return (c + 1)*(c_to_Nc[c] + 1)/(c_to_Nc[c+1] + 1) #here the smooth function S(N) = N + 1\n",
    "\n",
    "legend = []\n",
    "def Turing_estimation_from_count(count, name):\n",
    "    global legend\n",
    "    legend.append(name)\n",
    "    \n",
    "    c_to_Nc = count_Nc_from_gram_count(count)\n",
    "    result = {gram: Turing_smooth(c, c_to_Nc) for gram, c in count.items()}\n",
    "    if True:\n",
    "        C = np.logspace(0, 6, num=100, base=10)\n",
    "        C_Turning = [Turing_smooth(c, c_to_Nc) for c in C]\n",
    "        plt.figure('Turning_smooth')\n",
    "        plt.loglog(C, C_Turning)\n",
    "    return defaultdict(lambda :1,result)\n",
    "    \n",
    "    \n",
    "count_ngram1char_Turing = Turing_estimation_from_count(count_ngram1char, 'count_ngram1char')\n",
    "count_ngram2char_Turing = Turing_estimation_from_count(count_ngram2char, 'count_ngram2char')\n",
    "count_ngram1word_Turing = Turing_estimation_from_count(count_ngram1word, 'count_ngram1word')\n",
    "count_ngram2word_Turing = Turing_estimation_from_count(count_ngram2word, 'count_ngram2word')\n",
    "\n",
    "plt.figure('Turning_smooth')\n",
    "plt.loglog([1,10*6],[1,10*6],'--')\n",
    "plt.xlabel('c')\n",
    "plt.ylabel('c_Turning')\n",
    "legend.append('c=c_Turning')\n",
    "plt.legend(legend)\n",
    "plt.show()\n"
   ]
  },
  {
   "cell_type": "markdown",
   "metadata": {},
   "source": [
    "apply to unigram and bigram"
   ]
  },
  {
   "cell_type": "code",
   "execution_count": 9,
   "metadata": {},
   "outputs": [],
   "source": [
    "#unigram\n",
    "get_1gram_prob_char_Turing = partial(string_ngram_prob, \n",
    "                              prob_func=get_MLE_prob_from_count(count_ngram1char_Turing), \n",
    "                              gram_level='char', n=1)\n",
    "\n",
    "get_1gram_prob_word_Turing = partial(string_ngram_prob, \n",
    "                              prob_func=get_MLE_prob_from_count(count_ngram1word_Turing), \n",
    "                              gram_level='word', n=1)\n",
    "\n",
    "#bigram\n",
    "conditional_prob_char_Turing = get_conditional_prob(get_MLE_prob_from_count(count_ngram2char_Turing), \n",
    "                                                    get_MLE_prob_from_count(count_ngram1char_Turing))\n",
    "\n",
    "conditional_prob_word_Turing = get_conditional_prob(get_MLE_prob_from_count(count_ngram2word_Turing), \n",
    "                                                    get_MLE_prob_from_count(count_ngram1word_Turing))\n",
    "\n",
    "get_2gram_prob_char_Turing = partial(string_ngram_prob, \n",
    "                                     prob_func=conditional_prob_char_Turing, \n",
    "                                     gram_level='char', n=2)\n",
    "\n",
    "get_2gram_prob_word_Turing = partial(string_ngram_prob, \n",
    "                                     prob_func=conditional_prob_word_Turing, \n",
    "                                     gram_level='word', n=2)"
   ]
  },
  {
   "cell_type": "markdown",
   "metadata": {},
   "source": [
    "one test case"
   ]
  },
  {
   "cell_type": "code",
   "execution_count": 10,
   "metadata": {},
   "outputs": [
    {
     "name": "stdout",
     "output_type": "stream",
     "text": [
      "test function: get_2gram_prob_word_Turing\n",
      "===================================\n",
      "get_MLE_prob_from_count.<locals>.get_prob ((('正是', '好看'),), {}) => 1.114396844210098e-08\n",
      "get_MLE_prob_from_count.<locals>.get_prob ((('正是',),), {}) => 5.5805206398171325e-05\n",
      "get_conditional_prob.<locals>.get_prob ((('正是', '好看'),), {}) => 0.00019969406371492528\n",
      "get_MLE_prob_from_count.<locals>.get_prob ((('好看', '小猫'),), {}) => 1.114396844210098e-08\n",
      "get_MLE_prob_from_count.<locals>.get_prob ((('好看',),), {}) => 1.1171531680990245e-06\n",
      "get_conditional_prob.<locals>.get_prob ((('好看', '小猫'),), {}) => 0.009975327251735618\n",
      "正是一个好看的小猫 1.992013635785323e-06\n",
      "get_MLE_prob_from_count.<locals>.get_prob ((('真是', '好看'),), {}) => 1.114396844210098e-08\n",
      "get_MLE_prob_from_count.<locals>.get_prob ((('真是',),), {}) => 2.845933797419396e-06\n",
      "get_conditional_prob.<locals>.get_prob ((('真是', '好看'),), {}) => 0.0039157511155761895\n",
      "get_MLE_prob_from_count.<locals>.get_prob ((('好看', '小猫'),), {}) => 1.114396844210098e-08\n",
      "get_MLE_prob_from_count.<locals>.get_prob ((('好看',),), {}) => 1.1171531680990245e-06\n",
      "get_conditional_prob.<locals>.get_prob ((('好看', '小猫'),), {}) => 0.009975327251735618\n",
      "真是一个好看的小猫 3.906089881422131e-05\n",
      "\n",
      "\n"
     ]
    }
   ],
   "source": [
    "debug_tools.is_debug = True\n",
    "test_pair([pairs[1]], get_2gram_prob_word_Turing, 'get_2gram_prob_word_Turing')"
   ]
  },
  {
   "cell_type": "markdown",
   "metadata": {},
   "source": [
    "whole test cases"
   ]
  },
  {
   "cell_type": "code",
   "execution_count": 11,
   "metadata": {},
   "outputs": [
    {
     "name": "stdout",
     "output_type": "stream",
     "text": [
      "test function: get_1gram_prob_char_Turing\n",
      "===================================\n",
      "前天晚上吃晚饭的时候 2.8704009986370682e-31\n",
      "前天晚上吃早饭的时候 5.781689965664945e-31\n",
      "===================================\n",
      "正是一个好看的小猫 1.2354211287023462e-20\n",
      "真是一个好看的小猫 3.928484883881363e-21\n",
      "===================================\n",
      "我无言以对，简直 3.404081658838335e-23\n",
      "我简直无言以对 3.404081658838335e-23\n",
      "===================================\n",
      "广州有一个地方叫做沥窖 1.1663086073467041e-32\n",
      "杭州有一个地方叫做西湖 5.147240433398129e-29\n",
      "===================================\n",
      "这是一个比较常见测试用例 2.835733588726984e-32\n",
      "这是一个比较罕见的测试用例 1.7830362419319867e-33\n",
      "\n",
      "\n",
      "test function: get_1gram_prob_word_Turing\n",
      "===================================\n",
      "前天晚上吃晚饭的时候 6.616649276429155e-22\n",
      "前天晚上吃早饭的时候 6.710133530173703e-26\n",
      "===================================\n",
      "正是一个好看的小猫 7.432737903506603e-17\n",
      "真是一个好看的小猫 3.790520880080965e-18\n",
      "===================================\n",
      "我无言以对，简直 1.6583963923160534e-16\n",
      "我简直无言以对 1.6583963923160534e-16\n",
      "===================================\n",
      "广州有一个地方叫做沥窖 1.7843566465118832e-22\n",
      "杭州有一个地方叫做西湖 1.0659011700128659e-19\n",
      "===================================\n",
      "这是一个比较常见测试用例 2.261840278939012e-18\n",
      "这是一个比较罕见的测试用例 5.840485939845026e-19\n",
      "\n",
      "\n",
      "test function: get_2gram_prob_char_Turing\n",
      "===================================\n",
      "前天晚上吃晚饭的时候 5.268087731731447e-20\n",
      "前天晚上吃早饭的时候 5.107190506962257e-21\n",
      "===================================\n",
      "正是一个好看的小猫 1.0758780044905439e-14\n",
      "真是一个好看的小猫 2.4952918225221974e-15\n",
      "===================================\n",
      "我无言以对，简直 5.109717010789242e-18\n",
      "我简直无言以对 7.600070781385153e-19\n",
      "===================================\n",
      "广州有一个地方叫做沥窖 1.0270943018732459e-21\n",
      "杭州有一个地方叫做西湖 6.328275999517464e-18\n",
      "===================================\n",
      "这是一个比较常见测试用例 5.464056316326185e-20\n",
      "这是一个比较罕见的测试用例 1.4530015144764125e-20\n",
      "\n",
      "\n",
      "test function: get_2gram_prob_word_Turing\n",
      "===================================\n",
      "前天晚上吃晚饭的时候 5.019795186500376e-07\n",
      "前天晚上吃早饭的时候 5.516108800547579e-11\n",
      "===================================\n",
      "正是一个好看的小猫 1.992013635785323e-06\n",
      "真是一个好看的小猫 3.906089881422131e-05\n",
      "===================================\n",
      "我无言以对，简直 1.0382531787466111e-06\n",
      "我简直无言以对 1.4589975965631615e-07\n",
      "===================================\n",
      "广州有一个地方叫做沥窖 7.921389257782039e-15\n",
      "杭州有一个地方叫做西湖 8.040459206601085e-15\n",
      "===================================\n",
      "这是一个比较常见测试用例 1.0568364095283929e-09\n",
      "这是一个比较罕见的测试用例 1.210145178288928e-09\n",
      "\n",
      "\n"
     ]
    }
   ],
   "source": [
    "debug_tools.is_debug = False\n",
    "test_pair(pairs, get_1gram_prob_char_Turing, 'get_1gram_prob_char_Turing')\n",
    "test_pair(pairs, get_1gram_prob_word_Turing, 'get_1gram_prob_word_Turing')\n",
    "test_pair(pairs, get_2gram_prob_char_Turing, 'get_2gram_prob_char_Turing')\n",
    "test_pair(pairs, get_2gram_prob_word_Turing, 'get_2gram_prob_word_Turing')"
   ]
  }
 ],
 "metadata": {
  "kernelspec": {
   "display_name": "Python 3",
   "language": "python",
   "name": "python3"
  },
  "language_info": {
   "codemirror_mode": {
    "name": "ipython",
    "version": 3
   },
   "file_extension": ".py",
   "mimetype": "text/x-python",
   "name": "python",
   "nbconvert_exporter": "python",
   "pygments_lexer": "ipython3",
   "version": "3.6.6"
  }
 },
 "nbformat": 4,
 "nbformat_minor": 2
}
