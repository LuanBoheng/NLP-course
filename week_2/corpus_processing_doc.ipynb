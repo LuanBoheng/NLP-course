{
 "cells": [
  {
   "cell_type": "markdown",
   "metadata": {},
   "source": [
    "# corpus processing"
   ]
  },
  {
   "cell_type": "code",
   "execution_count": 1,
   "metadata": {},
   "outputs": [
    {
     "name": "stdout",
     "output_type": "stream",
     "text": [
      "\u001b[1m\u001b[36mAA\u001b[m\u001b[m \u001b[1m\u001b[36mAB\u001b[m\u001b[m \u001b[1m\u001b[36mAC\u001b[m\u001b[m \u001b[1m\u001b[36mAD\u001b[m\u001b[m \u001b[1m\u001b[36mAE\u001b[m\u001b[m \u001b[1m\u001b[36mAF\u001b[m\u001b[m \u001b[1m\u001b[36mAG\u001b[m\u001b[m \u001b[1m\u001b[36mAH\u001b[m\u001b[m \u001b[1m\u001b[36mAI\u001b[m\u001b[m \u001b[1m\u001b[36mAJ\u001b[m\u001b[m \u001b[1m\u001b[36mAK\u001b[m\u001b[m \u001b[1m\u001b[36mAL\u001b[m\u001b[m \u001b[1m\u001b[36mAM\u001b[m\u001b[m\n"
     ]
    }
   ],
   "source": [
    "!ls ../wiki_corpus/wiki_chs"
   ]
  },
  {
   "cell_type": "markdown",
   "metadata": {},
   "source": [
    "## 1. Use BFS make all corpus a list"
   ]
  },
  {
   "cell_type": "code",
   "execution_count": 2,
   "metadata": {},
   "outputs": [
    {
     "name": "stdout",
     "output_type": "stream",
     "text": [
      "first 10: ['../wiki_corpus/wiki_chs/AA/wiki_00', '../wiki_corpus/wiki_chs/AA/wiki_01', '../wiki_corpus/wiki_chs/AA/wiki_02', '../wiki_corpus/wiki_chs/AA/wiki_03', '../wiki_corpus/wiki_chs/AA/wiki_04', '../wiki_corpus/wiki_chs/AA/wiki_05', '../wiki_corpus/wiki_chs/AA/wiki_06', '../wiki_corpus/wiki_chs/AA/wiki_07', '../wiki_corpus/wiki_chs/AA/wiki_08', '../wiki_corpus/wiki_chs/AA/wiki_09']\n",
      "\n",
      "total corpus: 1230\n"
     ]
    }
   ],
   "source": [
    "import os\n",
    "corpus_path = '../wiki_corpus/wiki_chs'\n",
    "corpus_list = []\n",
    "need_visit = [corpus_path]\n",
    "while need_visit:\n",
    "    path = need_visit.pop(0)\n",
    "    if os.path.isdir(path):\n",
    "        need_visit += [path + '/' + p for p in os.listdir(path)]\n",
    "    elif '.DS_Store' not in path:\n",
    "        corpus_list.append(path)\n",
    "\n",
    "print('first 10:', corpus_list[:10])\n",
    "print('\\ntotal corpus:', len(corpus_list))"
   ]
  },
  {
   "cell_type": "markdown",
   "metadata": {},
   "source": [
    "## 2. Count n-gram for single file"
   ]
  },
  {
   "cell_type": "code",
   "execution_count": 3,
   "metadata": {},
   "outputs": [
    {
     "name": "stderr",
     "output_type": "stream",
     "text": [
      "Building prefix dict from the default dictionary ...\n",
      "Loading model from cache /var/folders/x8/vryxg4fn2hd0zpk8t5xd0djm0000gn/T/jieba.cache\n",
      "Loading model cost 0.751 seconds.\n",
      "Prefix dict has been built succesfully.\n"
     ]
    },
    {
     "data": {
      "text/plain": [
       "[(('的', '研究'), 174),\n",
       " (('中', '的'), 129),\n",
       " (('上', '的'), 117),\n",
       " (('不同', '的'), 109),\n",
       " (('的', '是'), 93),\n",
       " (('的', '发展'), 87),\n",
       " (('的', '理论'), 81),\n",
       " (('都', '是'), 81),\n",
       " (('也', '是'), 78),\n",
       " (('是', '一个'), 77),\n",
       " (('10', '月'), 75),\n",
       " (('之间', '的'), 74),\n",
       " (('的', '影响'), 74),\n",
       " (('研究', '的'), 73),\n",
       " (('重要', '的'), 73),\n",
       " (('则', '是'), 71),\n",
       " (('年', '的'), 70),\n",
       " (('11', '月'), 68),\n",
       " (('zh', 'wikipedia'), 66),\n",
       " (('wikipedia', 'org'), 66)]"
      ]
     },
     "execution_count": 3,
     "metadata": {},
     "output_type": "execute_result"
    }
   ],
   "source": [
    "import re\n",
    "import jieba\n",
    "from collections import Counter\n",
    "from functools import partial, reduce\n",
    "\n",
    "def tokenize_string(string):\n",
    "    clauses = [jieba.cut(c) for c in re.findall('[\\w|\\d]+', string)]\n",
    "    tokens = [w for c in clauses for w in list(c)]\n",
    "    return tokens\n",
    "    \n",
    "def count_ngram(string, n):\n",
    "    tokens = tokenize_string(string)\n",
    "    ngrams = [tuple(tokens[i-n:i]) for i in range(len(tokens)) if i > n]\n",
    "    return Counter(ngrams)\n",
    "\n",
    "\n",
    "def process_file(input_file, process_func):\n",
    "    with open(input_file, 'r') as f:\n",
    "        return process_func(f.read())\n",
    "    \n",
    "## test case\n",
    "input_file = corpus_list[0]\n",
    "word_count = process_file(input_file, process_func=partial(count_ngram, n=2))\n",
    "word_count.most_common(20)"
   ]
  },
  {
   "cell_type": "markdown",
   "metadata": {},
   "source": [
    "## 3. Multicore map reduce\n",
    "first allow multiprocessing process a batch of data"
   ]
  },
  {
   "cell_type": "code",
   "execution_count": 4,
   "metadata": {},
   "outputs": [],
   "source": [
    "import time\n",
    "import multiprocessing\n",
    "def multiprocess_count_ngram(batch_file, N):\n",
    "    pool = multiprocessing.Pool()\n",
    "    target_func = partial(process_file, process_func=partial(count_ngram, n=N))\n",
    "    ngram_counts = pool.map(target_func, batch_file)\n",
    "    pool.close()\n",
    "    pool.join()\n",
    "    return reduce(lambda x, y : x + y, ngram_counts)\n",
    "\n",
    "# # test case\n",
    "# tic = time.time()\n",
    "# word_count = multiprocess_count_ngram(corpus_list[10], 1)\n",
    "# print('total time:',time.time()-tic)"
   ]
  },
  {
   "cell_type": "markdown",
   "metadata": {},
   "source": [
    "cut the overall computational tasks into pieces, and aggrigate the results, which lead to the result from the whole wiki zh corpus."
   ]
  },
  {
   "cell_type": "code",
   "execution_count": 5,
   "metadata": {},
   "outputs": [
    {
     "name": "stderr",
     "output_type": "stream",
     "text": [
      "100%|██████████| 77/77 [20:29<00:00, 16.57s/it]\n"
     ]
    }
   ],
   "source": [
    "from tqdm import tqdm\n",
    "\n",
    "def cut_list(data, batch_size):\n",
    "    return [data[x:x+batch_size] for x in range(0, len(data), batch_size)]\n",
    "\n",
    "def wikichs_count_ngram(N, batch_size=16):\n",
    "    word_count = Counter([])\n",
    "    corpus_chuncks = cut_list(corpus_list, 16)\n",
    "\n",
    "    for chunck in tqdm(corpus_chuncks):\n",
    "        word_count += multiprocess_count_ngram(chunck, N)\n",
    "    return word_count\n",
    "\n",
    "word_count = wikichs_count_ngram(1)"
   ]
  },
  {
   "cell_type": "code",
   "execution_count": 7,
   "metadata": {},
   "outputs": [
    {
     "data": {
      "text/plain": [
       "[(('的',), 9885286),\n",
       " (('年',), 3009862),\n",
       " (('在',), 2816280),\n",
       " (('是',), 2209014),\n",
       " (('doc',), 2056551),\n",
       " (('为',), 1483796),\n",
       " (('和',), 1469596),\n",
       " (('月',), 1308439),\n",
       " (('了',), 1282062),\n",
       " (('zh',), 1103962),\n",
       " (('id',), 1035012),\n",
       " (('org',), 1031147),\n",
       " (('https',), 1030375),\n",
       " (('wiki',), 1029803),\n",
       " (('wikipedia',), 1029622),\n",
       " (('title',), 1029590),\n",
       " (('url',), 1029472),\n",
       " (('curid',), 1029447),\n",
       " (('与',), 941092),\n",
       " (('于',), 820759)]"
      ]
     },
     "execution_count": 7,
     "metadata": {},
     "output_type": "execute_result"
    }
   ],
   "source": [
    "word_count.most_common(20)"
   ]
  },
  {
   "cell_type": "code",
   "execution_count": 14,
   "metadata": {},
   "outputs": [
    {
     "name": "stdout",
     "output_type": "stream",
     "text": [
      "total word count of corpus: 212721993\n",
      "total vocabulary count: 3714045\n"
     ]
    },
    {
     "data": {
      "image/png": "[encoded data removed]",
      "text/plain": [
       "<matplotlib.figure.Figure at 0x135727d68>"
      ]
     },
     "metadata": {},
     "output_type": "display_data"
    }
   ],
   "source": [
    "import matplotlib.pyplot as plt\n",
    "freq = [f for gram, f in word_count.most_common()]\n",
    "plt.loglog(freq)\n",
    "plt.grid(True)\n",
    "plt.xlabel('rank of word')\n",
    "plt.ylabel('word frequency')\n",
    "print('total word count of corpus:', sum(freq))\n",
    "print('total vocabulary count:', len(freq))"
   ]
  },
  {
   "cell_type": "code",
   "execution_count": null,
   "metadata": {},
   "outputs": [],
   "source": []
  }
 ],
 "metadata": {
  "kernelspec": {
   "display_name": "Python 3",
   "language": "python",
   "name": "python3"
  },
  "language_info": {
   "codemirror_mode": {
    "name": "ipython",
    "version": 3
   },
   "file_extension": ".py",
   "mimetype": "text/x-python",
   "name": "python",
   "nbconvert_exporter": "python",
   "pygments_lexer": "ipython3",
   "version": "3.6.4"
  }
 },
 "nbformat": 4,
 "nbformat_minor": 2
}
