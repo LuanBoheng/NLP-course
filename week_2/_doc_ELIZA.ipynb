{
 "cells": [
  {
   "cell_type": "markdown",
   "metadata": {},
   "source": [
    "## Requirement\n",
    "\n",
    "(Optional) Using Generation by Syntax Tree and PAIP 151-167. Generate Sentence by Grammar. Implement a dialogue system, you may implement a mock system like West World, or Prison Break, etc.\n",
    "\n",
    "- Using AIML markup language to generate same pattern. \n",
    "\n",
    "- Think what markup language or rule based can do, what they cannot do?\n",
    "\n",
    "Bonus: If you finish this task, please connect with me. I will send you a **mysterious gift**.\n",
    "\n",
    "### References:\n",
    "a. PAIP https://github.com/Artificial-Intelligence-for-NLP/References/blob/master/AI%20%26%20Machine%20Learning/Paradigms-of-Artificial-Intelligence-Programming%20copy.pdf\n",
    "\n",
    "b. https://www.wikiwand.com/en/ELIZA\n",
    "\n",
    "c. https://www.eclecticenergies.com/ego/eliza\n",
    "\n",
    "d. https://baike.baidu.com/item/%E8%89%BE%E4%B8%BD%E8%8E%8E/9030600"
   ]
  },
  {
   "cell_type": "markdown",
   "metadata": {},
   "source": [
    "# chapter 5: ELIZA: Dialog with a Machine\n",
    "## 5.1 Describing and Specifying ELIZA\n",
    "Now that we have an idea of what ELIZA is like, we can begin the description and spec- ificationof the program, and eventually move to the implementation and debugging. The ELIZA algorithm can be described simply as: \n",
    "\n",
    "- (1)read an input, \n",
    "\n",
    "- (2) find a pattern that matches the input, \n",
    "\n",
    "- (3)transform the input into a response, and \n",
    "\n",
    "- (4)print the response. These four steps are repeated for each input.\n",
    "\n",
    "The specificationand implementation of steps (1)and (4)are trivial: for (I),use the built-in read function to read a list of words, and for (4)use pri n t to print the list of words in the response.\n",
    "Of course, there are some drawbacks to this specification. The user will have to type a real list- using parentheses- and the user can't use characters that are special to read, like quotation marks, commas, and periods. So our input won't be as unconstrained as in the sample dialog, but that's a small price to pay for the convenience of having half of the problem neatly solved.\n"
   ]
  },
  {
   "cell_type": "markdown",
   "metadata": {},
   "source": [
    "## 5.2 Pattern Matching\n",
    "```lisp\n",
    "(defun simple-equal ( x y )\n",
    "    \"Are x and y equal? (Don't check inside strings.)\" \n",
    "    (if (or (atomx) (atomy))\n",
    "        (eql x y)\n",
    "        (and (simple-equal (first x) (first y))\n",
    "            (simple-equal (rest x) (rest y)))))\n",
    "            \n",
    "            \n",
    "(defun pat-match (pattern input)\n",
    "    \"Does pattern match input? Any variable can match anything.\" \n",
    "    ( i f (variable-p pattern)\n",
    "        t\n",
    "        ( i f (or (atom pattern) (atom input))\n",
    "            (eql pattern input)\n",
    "            (and (pat-match (first pattern) (first input))\n",
    "                (pat-match (rest pattern) (rest input))))))\n",
    "```"
   ]
  },
  {
   "cell_type": "code",
   "execution_count": null,
   "metadata": {},
   "outputs": [],
   "source": []
  }
 ],
 "metadata": {
  "kernelspec": {
   "display_name": "Python 3",
   "language": "python",
   "name": "python3"
  },
  "language_info": {
   "codemirror_mode": {
    "name": "ipython",
    "version": 3
   },
   "file_extension": ".py",
   "mimetype": "text/x-python",
   "name": "python",
   "nbconvert_exporter": "python",
   "pygments_lexer": "ipython3",
   "version": "3.6.4"
  }
 },
 "nbformat": 4,
 "nbformat_minor": 2
}
