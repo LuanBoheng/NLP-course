{
 "cells": [
  {
   "cell_type": "markdown",
   "metadata": {},
   "source": [
    "## Requirement\n",
    "\n",
    "(Optional) Using Generation by Syntax Tree and PAIP 151-167. Generate Sentence by Grammar. Implement a dialogue system, you may implement a mock system like West World, or Prison Break, etc.\n",
    "\n",
    "- Using AIML markup language to generate same pattern. \n",
    "\n",
    "- Think what markup language or rule based can do, what they cannot do?\n",
    "\n",
    "Bonus: If you finish this task, please connect with me. I will send you a **mysterious gift**.\n",
    "\n",
    "### References:\n",
    "a. PAIP https://github.com/Artificial-Intelligence-for-NLP/References/blob/master/AI%20%26%20Machine%20Learning/Paradigms-of-Artificial-Intelligence-Programming%20copy.pdf\n",
    "\n",
    "b. https://www.wikiwand.com/en/ELIZA\n",
    "\n",
    "c. https://www.eclecticenergies.com/ego/eliza\n",
    "\n",
    "d. https://baike.baidu.com/item/%E8%89%BE%E4%B8%BD%E8%8E%8E/9030600"
   ]
  },
  {
   "cell_type": "markdown",
   "metadata": {},
   "source": [
    "# chapter 5: ELIZA: Dialog with a Machine\n",
    "## 5.1 Describing and Specifying ELIZA\n",
    "Now that we have an idea of what ELIZA is like, we can begin the description and spec- ificationof the program, and eventually move to the implementation and debugging. The ELIZA algorithm can be described simply as: \n",
    "\n",
    "- (1)read an input, \n",
    "\n",
    "- (2) find a pattern that matches the input, \n",
    "\n",
    "- (3)transform the input into a response, and \n",
    "\n",
    "- (4)print the response. These four steps are repeated for each input.\n",
    "\n",
    "The specificationand implementation of steps (1)and (4)are trivial: for (I),use the built-in read function to read a list of words, and for (4)use pri n t to print the list of words in the response.\n",
    "Of course, there are some drawbacks to this specification. The user will have to type a real list- using parentheses- and the user can't use characters that are special to read, like quotation marks, commas, and periods. So our input won't be as unconstrained as in the sample dialog, but that's a small price to pay for the convenience of having half of the problem neatly solved.\n"
   ]
  },
  {
   "cell_type": "markdown",
   "metadata": {},
   "source": [
    "## 1.Rules"
   ]
  },
  {
   "cell_type": "code",
   "execution_count": 1,
   "metadata": {},
   "outputs": [
    {
     "data": {
      "text/plain": [
       "defaultdict(list,\n",
       "            {'(?* ?x) hello (?* ?y)': ['how do you do. Please state your problem.'],\n",
       "             '(?* ?x) i feel (?* ?y)': ['do you often feel ?y ?'],\n",
       "             '(?* ?x) i felt (?* ?y)': ['what other feelings do you have?'],\n",
       "             '(?* ?x) i want (?* ?y)': ['what would it mean if you got ?y',\n",
       "              'why do you want ?y'],\n",
       "             '(?* ?x) if (?* ?y)': ['do you really think its likely that ?y',\n",
       "              'what do you think about ?y',\n",
       "              'really-- if ?y'],\n",
       "             '(?* ?x) no (?* ?y)': ['why not?',\n",
       "              'you are being a bit negative',\n",
       "              'are you saying \"NO\" just to be negative?']})"
      ]
     },
     "execution_count": 1,
     "metadata": {},
     "output_type": "execute_result"
    }
   ],
   "source": [
    "eliza_rules = '''\n",
    "(?* ?x) hello (?* ?y)\n",
    "    how do you do. Please state your problem.\n",
    "(?* ?x) i want (?* ?y)\n",
    "    what would it mean if you got ?y\n",
    "    why do you want ?y\n",
    "(?* ?x) if (?* ?y)\n",
    "    do you really think its likely that ?y\n",
    "    what do you think about ?y\n",
    "    really-- if ?y\n",
    "(?* ?x) no (?* ?y)\n",
    "    why not?\n",
    "    you are being a bit negative\n",
    "    are you saying \"NO\" just to be negative?\n",
    "(?* ?x) i feel (?* ?y)\n",
    "    do you often feel ?y ?\n",
    "(?* ?x) i felt (?* ?y)\n",
    "    what other feelings do you have?\n",
    "'''\n",
    "\n",
    "from collections import defaultdict\n",
    "pattern_to_template = defaultdict(list)\n",
    "eliza_rules = eliza_rules.splitlines()\n",
    "for line in eliza_rules:\n",
    "    if not line: \n",
    "        continue\n",
    "    if line[0] != ' ':\n",
    "        key = line\n",
    "    else:\n",
    "        pattern_to_template[key].append(line.strip())\n",
    "        \n",
    "pattern_to_template"
   ]
  },
  {
   "cell_type": "markdown",
   "metadata": {},
   "source": [
    "### pattern matching v1\n",
    "```lisp\n",
    "(defun pat-match (pattern input)\n",
    "  (if (variable-p pattern)\n",
    "    t\n",
    "    (if (or (atom pattern ) (atom input))\n",
    "      (eql pattern input)\n",
    "      (and (pat-match (car pattern) (car input))\n",
    "           (pat-match (cdr pattern) (cdr input))))))           \n",
    "           \n",
    "(defun variable-p (x)\n",
    "  (and (symbolp x) (equal (char (symbol-name x) 0) #\\?)))\n",
    "```\n",
    "**input** is the key word of python, here use **_input**"
   ]
  },
  {
   "cell_type": "code",
   "execution_count": 32,
   "metadata": {},
   "outputs": [
    {
     "name": "stdout",
     "output_type": "stream",
     "text": [
      "\n",
      "=====================================================================\n",
      "pattern:\t ['I', 'need', 'a', '?X']\n",
      "input:\t ['I', 'need', 'a', 'vacation']\n",
      "|s: pat_match ((['I', 'need', 'a', '?X'], ['I', 'need', 'a', 'vacation']), {})\n",
      "||s: pat_match (('I', 'I'), {})\n",
      "||e: pat_match (('I', 'I'), {}) = True\n",
      "||s: pat_match ((['need', 'a', '?X'], ['need', 'a', 'vacation']), {})\n",
      "|||s: pat_match (('need', 'need'), {})\n",
      "|||e: pat_match (('need', 'need'), {}) = True\n",
      "|||s: pat_match ((['a', '?X'], ['a', 'vacation']), {})\n",
      "||||s: pat_match (('a', 'a'), {})\n",
      "||||e: pat_match (('a', 'a'), {}) = True\n",
      "||||s: pat_match ((['?X'], ['vacation']), {})\n",
      "|||||s: pat_match (('?X', 'vacation'), {})\n",
      "|||||e: pat_match (('?X', 'vacation'), {}) = True\n",
      "|||||s: pat_match (([], []), {})\n",
      "|||||e: pat_match (([], []), {}) = True\n",
      "||||e: pat_match ((['?X'], ['vacation']), {}) = True\n",
      "|||e: pat_match ((['a', '?X'], ['a', 'vacation']), {}) = True\n",
      "||e: pat_match ((['need', 'a', '?X'], ['need', 'a', 'vacation']), {}) = True\n",
      "|e: pat_match ((['I', 'need', 'a', '?X'], ['I', 'need', 'a', 'vacation']), {}) = True\n",
      "True\n",
      "\n",
      "=====================================================================\n",
      "pattern:\t ['I', 'need', 'a', '?X']\n",
      "input:\t ['I', 'need', 'two', 'vacations']\n",
      "|s: pat_match ((['I', 'need', 'a', '?X'], ['I', 'need', 'two', 'vacations']), {})\n",
      "||s: pat_match (('I', 'I'), {})\n",
      "||e: pat_match (('I', 'I'), {}) = True\n",
      "||s: pat_match ((['need', 'a', '?X'], ['need', 'two', 'vacations']), {})\n",
      "|||s: pat_match (('need', 'need'), {})\n",
      "|||e: pat_match (('need', 'need'), {}) = True\n",
      "|||s: pat_match ((['a', '?X'], ['two', 'vacations']), {})\n",
      "||||s: pat_match (('a', 'two'), {})\n",
      "||||e: pat_match (('a', 'two'), {}) = False\n",
      "|||e: pat_match ((['a', '?X'], ['two', 'vacations']), {}) = False\n",
      "||e: pat_match ((['need', 'a', '?X'], ['need', 'two', 'vacations']), {}) = False\n",
      "|e: pat_match ((['I', 'need', 'a', '?X'], ['I', 'need', 'two', 'vacations']), {}) = False\n",
      "False\n"
     ]
    }
   ],
   "source": [
    "import debug_tools\n",
    "\n",
    "# @debug_tools.debug_print\n",
    "def atom(x):\n",
    "    return type(x) == str\n",
    "\n",
    "# @debug_tools.debug_print\n",
    "def variable_p(x):\n",
    "    return x[0] == '?'\n",
    "\n",
    "@debug_tools.debug_print\n",
    "def pat_match(pattern:list, _input:list):\n",
    "    #\"Does pattern match input? Any variable can match anything.\"\n",
    "    if (pattern == [] and _input == []) or variable_p(pattern):\n",
    "        return True\n",
    "    else:\n",
    "        if atom(pattern) or atom(_input):\n",
    "            return pattern == _input\n",
    "        else:\n",
    "            return pat_match(pattern[0], _input[0]) and pat_match(pattern[1:], _input[1:])\n",
    "\n",
    "test_cases = \"\"\"\n",
    "I need a ?X <-> I need a vacation\n",
    "I need a ?X <-> I need two vacations\n",
    "\"\"\"\n",
    "\n",
    "def test_pat_match(pat_match, test_cases):\n",
    "\n",
    "\n",
    "    debug_tools.stack_level = 0\n",
    "    for test_case in test_cases.split('\\n'):\n",
    "        if not test_case: continue\n",
    "        pattern, _input = [s.strip().split() for s in test_case.split('<->')]\n",
    "        print('\\n=====================================================================')\n",
    "        print('pattern:\\t', pattern)\n",
    "        print('input:\\t', _input)\n",
    "        print(pat_match(pattern, _input))\n",
    "\n",
    "test_pat_match(pat_match, test_cases)"
   ]
  },
  {
   "cell_type": "markdown",
   "metadata": {},
   "source": [
    "### pattern matching v2\n",
    "```lisp\n",
    "(defun pat-match (pattern input &optional (bindings no-bindings))\n",
    "  (cond ((eq bindings fail) \n",
    "          fail)\n",
    "\n",
    "        ((variable-p pattern) (match-variable pattern input bindings))\n",
    "\n",
    "        ((eql pattern input) bindings)\n",
    "\n",
    "        ((and (consp pattern) (consp input)) \n",
    "          (pat-match (cdr pattern) (cdr input) (pat-match (car pattern) (car input) bindings)))\n",
    "          \n",
    "        (t fail)\n",
    "        \n",
    "    ))\n",
    "\n",
    "(defun match-variable (var input bindings)\n",
    "  (let ((binding (get-binding var bindings)))\n",
    "    (cond ((not binding) (extend-bindings var input bindings))\n",
    "          ((equal input (binding-val binding)) bindings)\n",
    "          (t fail))))\n",
    "```"
   ]
  },
  {
   "cell_type": "code",
   "execution_count": 4,
   "metadata": {},
   "outputs": [
    {
     "name": "stdout",
     "output_type": "stream",
     "text": [
      "n: [1, 2, 3]\n",
      "[1, 2, 3, 2, 3]\n",
      "n: [1, 2]\n",
      "[1, 2, 2, 3]\n"
     ]
    }
   ],
   "source": [
    "@debug_tools.debug_print\n",
    "def pat_match(pattern:list, _input:list):\n",
    "    #\"Does pattern match input? Any variable can match anything.\"\n",
    "    if (pattern == [] and _input == []):\n",
    "        return True\n",
    "    \n",
    "    elif variable_p(pattern):\n",
    "        return True\n",
    "    else:\n",
    "        if atom(pattern) or atom(_input):\n",
    "            return pattern == _input\n",
    "        else:\n",
    "            return pat_match(pattern[0], _input[0]) and pat_match(pattern[1:], _input[1:])"
   ]
  },
  {
   "cell_type": "code",
   "execution_count": 5,
   "metadata": {},
   "outputs": [
    {
     "data": {
      "text/plain": [
       "1"
      ]
     },
     "execution_count": 5,
     "metadata": {},
     "output_type": "execute_result"
    }
   ],
   "source": [
    "a = [1]\n",
    "a.pop()"
   ]
  },
  {
   "cell_type": "code",
   "execution_count": 6,
   "metadata": {},
   "outputs": [
    {
     "name": "stdout",
     "output_type": "stream",
     "text": [
      "1\n"
     ]
    }
   ],
   "source": [
    "if [1] and [1]:\n",
    "    print(1)"
   ]
  },
  {
   "cell_type": "code",
   "execution_count": null,
   "metadata": {},
   "outputs": [],
   "source": []
  }
 ],
 "metadata": {
  "kernelspec": {
   "display_name": "Python 3",
   "language": "python",
   "name": "python3"
  },
  "language_info": {
   "codemirror_mode": {
    "name": "ipython",
    "version": 3
   },
   "file_extension": ".py",
   "mimetype": "text/x-python",
   "name": "python",
   "nbconvert_exporter": "python",
   "pygments_lexer": "ipython3",
   "version": "3.6.4"
  }
 },
 "nbformat": 4,
 "nbformat_minor": 2
}
