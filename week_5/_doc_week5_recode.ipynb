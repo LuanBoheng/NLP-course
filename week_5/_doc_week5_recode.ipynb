{
 "cells": [
  {
   "cell_type": "markdown",
   "metadata": {},
   "source": [
    "# 1. prepair training set"
   ]
  },
  {
   "cell_type": "code",
   "execution_count": 2,
   "metadata": {},
   "outputs": [
    {
     "name": "stdout",
     "output_type": "stream",
     "text": [
      "first 10: ['../week_2/wiki_corpus/wiki_chs/AE/wiki_52', '../week_2/wiki_corpus/wiki_chs/AE/wiki_66', '../week_2/wiki_corpus/wiki_chs/AE/wiki_36', '../week_2/wiki_corpus/wiki_chs/AE/wiki_75', '../week_2/wiki_corpus/wiki_chs/AE/wiki_90', '../week_2/wiki_corpus/wiki_chs/AE/wiki_06', '../week_2/wiki_corpus/wiki_chs/AE/wiki_95', '../week_2/wiki_corpus/wiki_chs/AE/wiki_85', '../week_2/wiki_corpus/wiki_chs/AE/wiki_07', '../week_2/wiki_corpus/wiki_chs/AE/wiki_20']\n",
      "\n",
      "total corpus: 1230\n"
     ]
    }
   ],
   "source": [
    "# usd BFS search, return all corpus files as a list of string\n",
    "import os\n",
    "def get_corpus(corpus_path):\n",
    "#     corpus_path = '../week_2/wiki_corpus/wiki_chs'\n",
    "    corpus_list = []\n",
    "    need_visit = [corpus_path]\n",
    "    while need_visit:\n",
    "        path = need_visit.pop(0)\n",
    "        if os.path.isdir(path):\n",
    "            need_visit += [path + '/' + p for p in os.listdir(path)]\n",
    "        elif '.DS_Store' not in path:\n",
    "            corpus_list.append(path)\n",
    "    return corpus_list\n",
    "\n",
    "# save the results on distk\n",
    "import pickle\n",
    "\n",
    "def save_obj(obj, file_name):\n",
    "    pickle.dump(obj, open(file_name, 'wb'))\n",
    "    \n",
    "def load_obj(file_name):\n",
    "    obj = pickle.load(open(file_name, 'rb'))\n",
    "    return obj\n",
    "\n",
    "corpus_list = get_corpus('../week_2/wiki_corpus/wiki_chs') \n",
    "print('first 10:', corpus_list[:10])\n",
    "print('\\ntotal corpus:', len(corpus_list))"
   ]
  },
  {
   "cell_type": "markdown",
   "metadata": {},
   "source": [
    "## 1.1 preprocessing"
   ]
  },
  {
   "cell_type": "code",
   "execution_count": 2,
   "metadata": {},
   "outputs": [],
   "source": [
    "import re\n",
    "import jieba\n",
    "from functools import reduce\n",
    "\n",
    "def replace_nums(string):\n",
    "    return '<num>' if string.isnumeric() else string\n",
    "\n",
    "def process_sent(sent:list):\n",
    "    return [replace_nums(w) for w in sent]\n",
    "    \n",
    "def tokenize_string(string):\n",
    "    string = ' '.join(re.findall('.+',string))\n",
    "    docs = [doc.split('。') for doc in re.findall('<doc.+?\">(.+?)</doc>',string)]\n",
    "    sents = [process_sent(jieba.cut(sent.strip()))+['。'] for sent in reduce(lambda a,b:a+b, docs) if sent != ' ']\n",
    "    return sents\n",
    "\n",
    "def get_training_data(input_file):\n",
    "    with open(input_file, 'r') as f:\n",
    "        tokens = tokenize_string(f.read())\n",
    "        return tokens\n"
   ]
  },
  {
   "cell_type": "markdown",
   "metadata": {},
   "source": [
    "## 1.2 multi-process"
   ]
  },
  {
   "cell_type": "code",
   "execution_count": 3,
   "metadata": {},
   "outputs": [],
   "source": [
    "#Multicore map reduce\n",
    "import time\n",
    "import multiprocessing\n",
    "from tqdm import tqdm\n",
    "import logging\n",
    "jieba.setLogLevel(logging.WARNING)\n",
    "\n",
    "def multiprocess(batch_file, target_func):\n",
    "    pool = multiprocessing.Pool()\n",
    "    result = pool.map(target_func, batch_file)\n",
    "    pool.close()\n",
    "    pool.join()\n",
    "    result = reduce(lambda x, y : x + y, result)\n",
    "    return result\n",
    "\n",
    "def save_training_set(input_files:list, output_file:str, batch_size=128):\n",
    "    def cut_list(lst, size): \n",
    "        return [lst[x:x+size] for x in range(0, len(lst), size)]\n",
    "    vocab = set()\n",
    "    counter = 0\n",
    "    for batch in tqdm(cut_list(input_files, batch_size)):\n",
    "        result = multiprocess(batch, get_training_data)\n",
    "        counter += 1 \n",
    "        save_obj(result, output_file+str(counter))\n",
    "        for sent in result:\n",
    "            for w in sent:\n",
    "                vocab.add(w)\n",
    "    save_obj(list(vocab), output_file + '_vocabulary')"
   ]
  },
  {
   "cell_type": "markdown",
   "metadata": {},
   "source": [
    "# 1.3 calculate and save data at the first time"
   ]
  },
  {
   "cell_type": "code",
   "execution_count": 4,
   "metadata": {},
   "outputs": [
    {
     "name": "stderr",
     "output_type": "stream",
     "text": [
      "100%|██████████| 10/10 [10:42<00:00, 64.24s/it]\n"
     ]
    }
   ],
   "source": [
    "!mkdir data\n",
    "!echo 'binary files in **data** are cutted by **jieba**' > README.md\n",
    "save_training_set(corpus_list, 'data/training_set')"
   ]
  },
  {
   "cell_type": "markdown",
   "metadata": {},
   "source": [
    "# 2. train word2vec"
   ]
  },
  {
   "cell_type": "code",
   "execution_count": 8,
   "metadata": {},
   "outputs": [],
   "source": [
    "from gensim.models import Word2Vec\n",
    "from tqdm import tqdm\n",
    "\n",
    "def save_model(file_name):\n",
    "    corpus_list = sorted(get_corpus('data'), key=lambda s:len(s))\n",
    "    print(corpus_list)\n",
    "    model = Word2Vec(min_count=1, workers=4)\n",
    "    model.build_vocab(load_obj(corpus_list.pop()))\n",
    "\n",
    "    for training_data in tqdm(corpus_list):\n",
    "        model.train(load_obj(training_data) , total_examples=model.corpus_count, epochs=model.iter)\n",
    "\n",
    "    model.save(file_name)"
   ]
  },
  {
   "cell_type": "markdown",
   "metadata": {},
   "source": [
    "## 2.1 save model at the first time"
   ]
  },
  {
   "cell_type": "code",
   "execution_count": 9,
   "metadata": {},
   "outputs": [
    {
     "name": "stdout",
     "output_type": "stream",
     "text": [
      "['data/training_set7', 'data/training_set6', 'data/training_set1', 'data/training_set2', 'data/training_set3', 'data/training_set8', 'data/training_set5', 'data/training_set4', 'data/training_set9', 'data/training_set10', 'data/training_set_vocabulary']\n"
     ]
    },
    {
     "name": "stderr",
     "output_type": "stream",
     "text": [
      "  0%|          | 0/10 [00:00<?, ?it/s]/usr/local/lib/python3.6/dist-packages/ipykernel_launcher.py:11: DeprecationWarning: Call to deprecated `iter` (Attribute will be removed in 4.0.0, use self.epochs instead).\n",
      "  # This is added back by InteractiveShellApp.init_path()\n",
      "100%|██████████| 10/10 [04:42<00:00, 28.25s/it]\n"
     ]
    }
   ],
   "source": [
    "save_model('data/word2vec.model')"
   ]
  },
  {
   "cell_type": "code",
   "execution_count": null,
   "metadata": {},
   "outputs": [],
   "source": []
  }
 ],
 "metadata": {
  "kernelspec": {
   "display_name": "Python 3",
   "language": "python",
   "name": "python3"
  },
  "language_info": {
   "codemirror_mode": {
    "name": "ipython",
    "version": 3
   },
   "file_extension": ".py",
   "mimetype": "text/x-python",
   "name": "python",
   "nbconvert_exporter": "python",
   "pygments_lexer": "ipython3",
   "version": "3.6.6"
  }
 },
 "nbformat": 4,
 "nbformat_minor": 2
}
