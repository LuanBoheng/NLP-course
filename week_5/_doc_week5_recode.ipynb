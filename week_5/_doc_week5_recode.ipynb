{
 "cells": [
  {
   "cell_type": "markdown",
   "metadata": {},
   "source": [
    "# 1. prepair training set"
   ]
  },
  {
   "cell_type": "code",
   "execution_count": 1,
   "metadata": {},
   "outputs": [
    {
     "name": "stdout",
     "output_type": "stream",
     "text": [
      "first 10: ['../week_2/wiki_corpus/wiki_chs/AE/wiki_52', '../week_2/wiki_corpus/wiki_chs/AE/wiki_66', '../week_2/wiki_corpus/wiki_chs/AE/wiki_36', '../week_2/wiki_corpus/wiki_chs/AE/wiki_75', '../week_2/wiki_corpus/wiki_chs/AE/wiki_90', '../week_2/wiki_corpus/wiki_chs/AE/wiki_06', '../week_2/wiki_corpus/wiki_chs/AE/wiki_95', '../week_2/wiki_corpus/wiki_chs/AE/wiki_85', '../week_2/wiki_corpus/wiki_chs/AE/wiki_07', '../week_2/wiki_corpus/wiki_chs/AE/wiki_20']\n",
      "\n",
      "total corpus: 1230\n"
     ]
    }
   ],
   "source": [
    "# usd BFS search, return all corpus files as a list of string\n",
    "import os\n",
    "def get_corpus(corpus_path):\n",
    "#     corpus_path = '../week_2/wiki_corpus/wiki_chs'\n",
    "    corpus_list = []\n",
    "    need_visit = [corpus_path]\n",
    "    while need_visit:\n",
    "        path = need_visit.pop(0)\n",
    "        if os.path.isdir(path):\n",
    "            need_visit += [path + '/' + p for p in os.listdir(path)]\n",
    "        elif '.DS_Store' not in path:\n",
    "            corpus_list.append(path)\n",
    "    return corpus_list\n",
    "\n",
    "# save the results on distk\n",
    "import pickle\n",
    "\n",
    "def save_obj(obj, file_name):\n",
    "    pickle.dump(obj, open(file_name, 'wb'))\n",
    "    \n",
    "def load_obj(file_name):\n",
    "    obj = pickle.load(open(file_name, 'rb'))\n",
    "    return obj\n",
    "\n",
    "corpus_list = get_corpus('../week_2/wiki_corpus/wiki_chs') \n",
    "print('first 10:', corpus_list[:10])\n",
    "print('\\ntotal corpus:', len(corpus_list))"
   ]
  },
  {
   "cell_type": "markdown",
   "metadata": {},
   "source": [
    "## 1.1 preprocessing"
   ]
  },
  {
   "cell_type": "code",
   "execution_count": 2,
   "metadata": {},
   "outputs": [
    {
     "data": {
      "text/plain": [
       "<function __main__.get_training_data(input_file)>"
      ]
     },
     "execution_count": 2,
     "metadata": {},
     "output_type": "execute_result"
    }
   ],
   "source": [
    "import re\n",
    "import jieba\n",
    "from functools import reduce\n",
    "\n",
    "def replace_nums(string):\n",
    "    return re.sub('\\d+','<num>', string)\n",
    "\n",
    "def process_sent(sent:list):\n",
    "    return [replace_nums(w) for w in sent]\n",
    "    \n",
    "def tokenize_string(string):\n",
    "    string = ' '.join(re.findall('.+',string))\n",
    "    docs = [doc.split('。') for doc in re.findall('<doc.+?\">(.+?)</doc>',string)]\n",
    "    \n",
    "    sents = [process_sent(jieba.cut(sent.strip()))+['。'] for sent in reduce(lambda a,b:a+b, docs) if sent != ' ']\n",
    "    return sents\n",
    "\n",
    "def get_training_data(input_file):\n",
    "    with open(input_file, 'r') as f:\n",
    "        tokens = tokenize_string(f.read())\n",
    "        return tokens\n",
    "\n",
    "get_training_data"
   ]
  },
  {
   "cell_type": "markdown",
   "metadata": {},
   "source": [
    "## 1.2 multi-process"
   ]
  },
  {
   "cell_type": "code",
   "execution_count": 3,
   "metadata": {},
   "outputs": [],
   "source": [
    "#Multicore map reduce\n",
    "import time\n",
    "import multiprocessing\n",
    "from tqdm import tqdm\n",
    "import logging\n",
    "jieba.setLogLevel(logging.WARNING)\n",
    "\n",
    "def multiprocess(batch_file, target_func):\n",
    "    pool = multiprocessing.Pool()\n",
    "    result = pool.map(target_func, batch_file)\n",
    "    pool.close()\n",
    "    pool.join()\n",
    "    result = reduce(lambda x, y : x + y, result)\n",
    "    return result\n",
    "\n",
    "def save_training_set(input_files:list, output_file:str, batch_size=64):\n",
    "    def cut_list(lst, size): \n",
    "        return [lst[x:x+size] for x in range(0, len(lst), size)]\n",
    "    \n",
    "    counter = 0\n",
    "    for batch in tqdm(cut_list(input_files, batch_size)):\n",
    "        result = multiprocess(batch, get_training_data)\n",
    "        counter += 1 \n",
    "        save_obj(result, output_file+str(counter))"
   ]
  },
  {
   "cell_type": "markdown",
   "metadata": {},
   "source": [
    "# 1.3 calculate and save data at the first time"
   ]
  },
  {
   "cell_type": "code",
   "execution_count": 4,
   "metadata": {},
   "outputs": [
    {
     "name": "stdout",
     "output_type": "stream",
     "text": [
      "mkdir: cannot create directory ‘data’: File exists\n"
     ]
    },
    {
     "name": "stderr",
     "output_type": "stream",
     "text": [
      "100%|██████████| 20/20 [11:04<00:00, 33.22s/it]\n"
     ]
    }
   ],
   "source": [
    "!mkdir data\n",
    "save_training_set(corpus_list, 'data/training_set')"
   ]
  },
  {
   "cell_type": "code",
   "execution_count": 5,
   "metadata": {},
   "outputs": [
    {
     "name": "stdout",
     "output_type": "stream",
     "text": [
      "[['安济桥', ' ', '(', '衡水', ')', ' ', '衡水', '安济桥', '，', '又名', '衡水', '石桥', '或', '衡水', '老桥', '，', '座落在', '河北省', '衡水市', '滏阳', '河', '上', '，', '建成', '于', '乾隆', '三十一年', '（', '<num>', '年', '）', '。'], ['据', '《', '衡水', '县志', '》', '载', '：', '明朝', '天顺', '元年', '（', '<num>', '年', '）', '，', '衡水', '知县', '杨', '俨', '奏请', '上级', '批准', '修建', '一座', '木桥', '。'], ['后', '木桥', '因', '多次', '发大水', '屡修', '屡毁', '。'], ['至', '嘉靖', '三十二年', '（', '<num>', '年', '）', '，', '由', '衡水', '县', '徐廷', '募资', '修建', '石桥', '，', '隆庆', '三年', '（', '<num>', '年', '）', '复', '被', '大水', '冲毁', '，', '后', '由', '贾', '从仁', '募资', '修复', '。'], ['至', '清朝', '顺治', '五年', '（', '<num>', '年', '）', '由于', '滹沱河', '河床', '南徙', '并', '与', '滏阳', '河', '汇合', '，', '河水', '猛涨', '导致', '桥', '几乎', '被', '冲毁', '。'], ['清朝', '乾隆年间', '直隶', '总督', '方观', '承', '奏请', '朝廷', '批准', '，', '拨', '出', '银子', '四万七千', '六百多', '两', '修建', '石桥', '。'], ['派清', '河道', '周元理', '、', '通永道', '玉神保', '董理', '，', '同时', '知县', '陶淑', '亲自', '指挥', '。'], ['乾隆', '三十年', '（', '<num>', '年', '）', '正式', '动工', '，', '到', '翌年', '竣工', '上报', '朝廷', '，', '乾隆', '帝赐', '名', '“', '安济', '”', '，', '故', '名', '安济桥', '。'], ['<num>', '年', '，', '日本', '军队', '将', '石桥', '中孔', '炸毁', '以便', '于', '行船', '。'], ['<num>', '年此', '河段', '改用', '木桥', '衔接', '。']]\n"
     ]
    }
   ],
   "source": [
    "def demo_traning_set(n):\n",
    "    traning_set = load_obj('data/training_set1')\n",
    "    print(traning_set[:n])\n",
    "    \n",
    "demo_traning_set(10)"
   ]
  },
  {
   "cell_type": "markdown",
   "metadata": {},
   "source": [
    "# 2. word2vec train online training\n",
    "reference: https://rutumulkar.com/blog/2015/word2vec"
   ]
  },
  {
   "cell_type": "code",
   "execution_count": 6,
   "metadata": {},
   "outputs": [],
   "source": [
    "from gensim.models import Word2Vec\n",
    "from tqdm import tqdm\n",
    "\n",
    "def save_model(file_name):\n",
    "    corpus_list = get_corpus('data')\n",
    "    print(corpus_list)\n",
    "    model = Word2Vec(load_obj(corpus_list.pop()), min_count=3, workers=4)\n",
    "\n",
    "    for training_data in tqdm(corpus_list):\n",
    "        training_data = load_obj(training_data)\n",
    "        model.build_vocab(training_data, update=True)\n",
    "        model.train(training_data , total_examples=model.corpus_count, epochs=model.epochs)\n",
    "\n",
    "    model.save(file_name)"
   ]
  },
  {
   "cell_type": "markdown",
   "metadata": {},
   "source": [
    "## 2.1 save model at the first time"
   ]
  },
  {
   "cell_type": "code",
   "execution_count": 7,
   "metadata": {},
   "outputs": [
    {
     "name": "stdout",
     "output_type": "stream",
     "text": [
      "['data/training_set7', 'data/training_set6', 'data/training_set1', 'data/training_set2', 'data/training_set3', 'data/training_set8', 'data/training_set5', 'data/training_set4', 'data/training_set9', 'data/training_set11', 'data/training_set20', 'data/training_set15', 'data/training_set13', 'data/training_set16', 'data/training_set14', 'data/training_set18', 'data/training_set12', 'data/training_set19', 'data/training_set17', 'data/training_set10']\n"
     ]
    },
    {
     "name": "stderr",
     "output_type": "stream",
     "text": [
      "  0%|          | 0/19 [00:00<?, ?it/s]/usr/local/lib/python3.6/dist-packages/ipykernel_launcher.py:12: DeprecationWarning: Call to deprecated `iter` (Attribute will be removed in 4.0.0, use self.epochs instead).\n",
      "  if sys.path[0] == '':\n",
      "100%|██████████| 19/19 [13:26<00:00, 42.45s/it]\n"
     ]
    }
   ],
   "source": [
    "save_model('model/word2vec.model')"
   ]
  },
  {
   "cell_type": "markdown",
   "metadata": {},
   "source": [
    "## 2.2 demo"
   ]
  },
  {
   "cell_type": "code",
   "execution_count": 9,
   "metadata": {},
   "outputs": [],
   "source": [
    "from gensim.models import Word2Vec\n",
    "from tqdm import tqdm\n",
    "\n",
    "model = Word2Vec.load('model/word2vec.model')"
   ]
  },
  {
   "cell_type": "code",
   "execution_count": 22,
   "metadata": {},
   "outputs": [
    {
     "data": {
      "text/plain": [
       "[('<num>.<num>', 0.6439221501350403),\n",
       " ('年', 0.5513116121292114),\n",
       " ('月', 0.5263307690620422),\n",
       " ('下半年', 0.5020462870597839),\n",
       " ('截止', 0.4934613108634949),\n",
       " ('日', 0.4872220456600189),\n",
       " ('上半年', 0.48133814334869385),\n",
       " ('预计', 0.4806244969367981),\n",
       " ('生效日', 0.47555091977119446),\n",
       " ('单月', 0.4645977020263672)]"
      ]
     },
     "execution_count": 22,
     "metadata": {},
     "output_type": "execute_result"
    }
   ],
   "source": [
    "model.wv.similar_by_word('<num>')"
   ]
  },
  {
   "cell_type": "code",
   "execution_count": 23,
   "metadata": {},
   "outputs": [
    {
     "data": {
      "text/plain": [
       "[('<num>.<num>%', 0.7951822280883789),\n",
       " ('一半', 0.772778332233429),\n",
       " ('百分之五', 0.7694447040557861),\n",
       " ('％', 0.7688212990760803),\n",
       " ('三分之一', 0.7555698156356812),\n",
       " ('百分之', 0.7324985265731812),\n",
       " ('百分之九十', 0.7284418344497681),\n",
       " ('百分之五十', 0.7273511290550232),\n",
       " ('五分之一', 0.7243691682815552),\n",
       " ('百分之二十', 0.7231431007385254)]"
      ]
     },
     "execution_count": 23,
     "metadata": {},
     "output_type": "execute_result"
    }
   ],
   "source": [
    "model.wv.similar_by_word('<num>%')"
   ]
  },
  {
   "cell_type": "code",
   "execution_count": 24,
   "metadata": {},
   "outputs": [
    {
     "data": {
      "text/plain": [
       "[('数学分析', 0.8253051042556763),\n",
       " ('微积分', 0.8048616051673889),\n",
       " ('高等数学', 0.7845650911331177),\n",
       " ('数论', 0.7810370326042175),\n",
       " ('概率论', 0.7800022959709167),\n",
       " ('数理逻辑', 0.7799492478370667),\n",
       " ('拓扑学', 0.7778240442276001),\n",
       " ('语言学', 0.7742013931274414),\n",
       " ('统计学', 0.7737069129943848),\n",
       " ('逻辑学', 0.7697933912277222)]"
      ]
     },
     "execution_count": 24,
     "metadata": {},
     "output_type": "execute_result"
    }
   ],
   "source": [
    "model.wv.similar_by_word('数学')"
   ]
  },
  {
   "cell_type": "code",
   "execution_count": 33,
   "metadata": {},
   "outputs": [
    {
     "data": {
      "text/plain": [
       "[('中华人民共和国', 0.6557179689407349),\n",
       " ('中华民国', 0.5823049545288086),\n",
       " ('外国', 0.5758571624755859),\n",
       " ('我国', 0.548123836517334),\n",
       " ('东亚', 0.5338834524154663),\n",
       " ('欧美', 0.51898193359375),\n",
       " ('西方', 0.5143820643424988),\n",
       " ('近代', 0.5110182166099548),\n",
       " ('JICST', 0.509065568447113),\n",
       " ('曾毅', 0.500535249710083)]"
      ]
     },
     "execution_count": 33,
     "metadata": {},
     "output_type": "execute_result"
    }
   ],
   "source": [
    "model.wv.similar_by_word('中国')"
   ]
  },
  {
   "cell_type": "code",
   "execution_count": null,
   "metadata": {},
   "outputs": [],
   "source": []
  }
 ],
 "metadata": {
  "kernelspec": {
   "display_name": "Python 3",
   "language": "python",
   "name": "python3"
  },
  "language_info": {
   "codemirror_mode": {
    "name": "ipython",
    "version": 3
   },
   "file_extension": ".py",
   "mimetype": "text/x-python",
   "name": "python",
   "nbconvert_exporter": "python",
   "pygments_lexer": "ipython3",
   "version": "3.6.6"
  }
 },
 "nbformat": 4,
 "nbformat_minor": 2
}
