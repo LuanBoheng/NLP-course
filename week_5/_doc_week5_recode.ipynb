{
 "cells": [
  {
   "cell_type": "code",
   "execution_count": 1,
   "metadata": {},
   "outputs": [
    {
     "name": "stdout",
     "output_type": "stream",
     "text": [
      "first 10: ['../week_2/wiki_corpus/wiki_chs/AE/wiki_52', '../week_2/wiki_corpus/wiki_chs/AE/wiki_66', '../week_2/wiki_corpus/wiki_chs/AE/wiki_36', '../week_2/wiki_corpus/wiki_chs/AE/wiki_75', '../week_2/wiki_corpus/wiki_chs/AE/wiki_90', '../week_2/wiki_corpus/wiki_chs/AE/wiki_06', '../week_2/wiki_corpus/wiki_chs/AE/wiki_95', '../week_2/wiki_corpus/wiki_chs/AE/wiki_85', '../week_2/wiki_corpus/wiki_chs/AE/wiki_07', '../week_2/wiki_corpus/wiki_chs/AE/wiki_20']\n",
      "\n",
      "total corpus: 1230\n"
     ]
    }
   ],
   "source": [
    "# usd BFS search, return all corpus files as a list of string\n",
    "import os\n",
    "def get_corpus(corpus_path):\n",
    "#     corpus_path = '../week_2/wiki_corpus/wiki_chs'\n",
    "    corpus_list = []\n",
    "    need_visit = [corpus_path]\n",
    "    while need_visit:\n",
    "        path = need_visit.pop(0)\n",
    "        if os.path.isdir(path):\n",
    "            need_visit += [path + '/' + p for p in os.listdir(path)]\n",
    "        elif '.DS_Store' not in path:\n",
    "            corpus_list.append(path)\n",
    "    return corpus_list\n",
    "\n",
    "# save the results on distk\n",
    "import pickle\n",
    "\n",
    "def save_obj(obj, file_name):\n",
    "    pickle.dump(obj, open(file_name, 'wb'))\n",
    "    \n",
    "def load_obj(file_name):\n",
    "    obj = pickle.load(open(file_name, 'rb'))\n",
    "    return obj\n",
    "\n",
    "corpus_list = get_corpus('../week_2/wiki_corpus/wiki_chs') \n",
    "print('first 10:', corpus_list[:10])\n",
    "print('\\ntotal corpus:', len(corpus_list))"
   ]
  },
  {
   "cell_type": "code",
   "execution_count": 2,
   "metadata": {},
   "outputs": [],
   "source": [
    "import re\n",
    "import jieba\n",
    "from functools import reduce\n",
    "\n",
    "def tokenize_string(string):\n",
    "    string = ' '.join(re.findall('.+',string))\n",
    "    docs = [doc.split('。') for doc in re.findall('<doc.+?\">(.+?)</doc>',string)]\n",
    "    sents = [list(jieba.cut(sent.strip()))+['。'] for sent in reduce(lambda a,b:a+b, docs) if sent != ' ']\n",
    "    return sents\n",
    "\n",
    "def get_training_data(input_file):\n",
    "    with open(input_file, 'r') as f:\n",
    "        tokens = tokenize_string(f.read())\n",
    "        return tokens\n",
    "        \n",
    "        \n",
    "#Multicore map reduce\n",
    "import time\n",
    "import multiprocessing\n",
    "from tqdm import tqdm\n",
    "import logging\n",
    "jieba.setLogLevel(logging.WARNING)\n",
    "\n",
    "def multiprocess(batch_file, target_func):\n",
    "    pool = multiprocessing.Pool()\n",
    "    result = pool.map(target_func, batch_file)\n",
    "    pool.close()\n",
    "    pool.join()\n",
    "    result = reduce(lambda x, y : x + y, result)\n",
    "    return result\n",
    "\n",
    "def save_training_set(input_files:list, output_file:str, batch_size=128):\n",
    "    def cut_list(lst, size): \n",
    "        return [lst[x:x+size] for x in range(0, len(lst), size)]\n",
    "    counter = 0\n",
    "    for batch in tqdm(cut_list(input_files, batch_size)):\n",
    "        result = multiprocess(batch, get_training_data)\n",
    "        counter += 1 \n",
    "        save_obj(result, output_file+str(counter))"
   ]
  },
  {
   "cell_type": "code",
   "execution_count": 3,
   "metadata": {},
   "outputs": [
    {
     "name": "stdout",
     "output_type": "stream",
     "text": [
      "mkdir: cannot create directory ‘data’: File exists\n"
     ]
    }
   ],
   "source": [
    "!mkdir data"
   ]
  },
  {
   "cell_type": "code",
   "execution_count": 4,
   "metadata": {},
   "outputs": [
    {
     "name": "stderr",
     "output_type": "stream",
     "text": [
      "100%|██████████| 10/10 [09:46<00:00, 58.69s/it]\n"
     ]
    }
   ],
   "source": [
    "!echo 'binary files in **data** are cutted by **jieba**' > README.md\n",
    "save_training_set(corpus_list, 'data/training_set')"
   ]
  },
  {
   "cell_type": "code",
   "execution_count": null,
   "metadata": {},
   "outputs": [],
   "source": []
  }
 ],
 "metadata": {
  "kernelspec": {
   "display_name": "Python 3",
   "language": "python",
   "name": "python3"
  },
  "language_info": {
   "codemirror_mode": {
    "name": "ipython",
    "version": 3
   },
   "file_extension": ".py",
   "mimetype": "text/x-python",
   "name": "python",
   "nbconvert_exporter": "python",
   "pygments_lexer": "ipython3",
   "version": "3.6.6"
  }
 },
 "nbformat": 4,
 "nbformat_minor": 2
}
